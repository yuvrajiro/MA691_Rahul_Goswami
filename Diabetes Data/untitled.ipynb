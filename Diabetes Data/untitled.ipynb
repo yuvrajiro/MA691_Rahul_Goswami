{
  "cells": [
    {
      "cell_type": "code",
      "metadata": {
        "tags": [],
        "deepnote_to_be_reexecuted": false,
        "source_hash": "bf7f2fd5",
        "execution_millis": 1417,
        "cell_id": "00000-cf26a570-e079-4cc0-a750-a459b24d353f",
        "execution_start": 1614924293851,
        "deepnote_cell_type": "code"
      },
      "source": "import pandas as pd\nimport numpy as np\nfrom sklearn import metrics\nfrom sklearn.preprocessing import StandardScaler\nfrom sklearn.model_selection import train_test_split,KFold\nfrom sklearn.linear_model import Lasso\nimport matplotlib.pyplot as plt\nimport seaborn as sns\nfrom sklearn.datasets import load_diabetes\nfrom sklearn.neighbors import KNeighborsRegressor\nscaler = StandardScaler() ",
      "execution_count": 1,
      "outputs": []
    },
    {
      "cell_type": "markdown",
      "source": "## Importing Data",
      "metadata": {
        "tags": [],
        "cell_id": "00001-7ea70642-9be6-483e-ae42-e72b3cde1052",
        "deepnote_cell_type": "markdown"
      }
    },
    {
      "cell_type": "code",
      "metadata": {
        "tags": [],
        "deepnote_to_be_reexecuted": false,
        "source_hash": "baec17e",
        "execution_millis": 1,
        "cell_id": "00002-44a82308-ec83-4582-9435-719284c31370",
        "execution_start": 1614925251769,
        "deepnote_cell_type": "code"
      },
      "source": "data =load_diabetes()",
      "execution_count": 10,
      "outputs": []
    },
    {
      "cell_type": "code",
      "source": "data = np.c_[data.data,data.target]\ndata_df = pd.DataFrame(data)",
      "metadata": {
        "tags": [],
        "cell_id": "00003-f8cfa4a9-8459-404e-89f1-8dc4acf90f8a",
        "deepnote_to_be_reexecuted": false,
        "source_hash": "1a634971",
        "execution_millis": 2,
        "execution_start": 1614925718866,
        "deepnote_cell_type": "code"
      },
      "outputs": [],
      "execution_count": 36
    },
    {
      "cell_type": "code",
      "source": "data_df.head()",
      "metadata": {
        "tags": [],
        "cell_id": "00004-cdb6806c-e8a7-47c6-8509-08b30a25141b",
        "deepnote_to_be_reexecuted": false,
        "source_hash": "dac68dde",
        "execution_millis": 8,
        "execution_start": 1614925725201,
        "deepnote_cell_type": "code"
      },
      "outputs": [
        {
          "output_type": "execute_result",
          "execution_count": 37,
          "data": {
            "application/vnd.deepnote.dataframe.v2+json": {
              "row_count": 5,
              "column_count": 11,
              "columns": [
                {
                  "name": 0,
                  "dtype": "float64",
                  "stats": {
                    "unique_count": 5,
                    "nan_count": 0,
                    "min": -0.0890629393522603,
                    "max": 0.0852989062966783,
                    "histogram": [
                      {
                        "bin_start": -0.0890629393522603,
                        "bin_end": -0.07162675478736644,
                        "count": 1
                      },
                      {
                        "bin_start": -0.07162675478736644,
                        "bin_end": -0.05419057022247258,
                        "count": 0
                      },
                      {
                        "bin_start": -0.05419057022247258,
                        "bin_end": -0.03675438565757873,
                        "count": 0
                      },
                      {
                        "bin_start": -0.03675438565757873,
                        "bin_end": -0.019318201092684867,
                        "count": 0
                      },
                      {
                        "bin_start": -0.019318201092684867,
                        "bin_end": -0.0018820165277910056,
                        "count": 1
                      },
                      {
                        "bin_start": -0.0018820165277910056,
                        "bin_end": 0.015554168037102842,
                        "count": 1
                      },
                      {
                        "bin_start": 0.015554168037102842,
                        "bin_end": 0.0329903526019967,
                        "count": 0
                      },
                      {
                        "bin_start": 0.0329903526019967,
                        "bin_end": 0.050426537166890564,
                        "count": 1
                      },
                      {
                        "bin_start": 0.050426537166890564,
                        "bin_end": 0.06786272173178441,
                        "count": 0
                      },
                      {
                        "bin_start": 0.06786272173178441,
                        "bin_end": 0.0852989062966783,
                        "count": 1
                      }
                    ]
                  }
                },
                {
                  "name": 1,
                  "dtype": "float64",
                  "stats": {
                    "unique_count": 2,
                    "nan_count": 0,
                    "min": -0.044641636506989,
                    "max": 0.0506801187398187,
                    "histogram": [
                      {
                        "bin_start": -0.044641636506989,
                        "bin_end": -0.03510946098230823,
                        "count": 3
                      },
                      {
                        "bin_start": -0.03510946098230823,
                        "bin_end": -0.02557728545762746,
                        "count": 0
                      },
                      {
                        "bin_start": -0.02557728545762746,
                        "bin_end": -0.016045109932946687,
                        "count": 0
                      },
                      {
                        "bin_start": -0.016045109932946687,
                        "bin_end": -0.006512934408265919,
                        "count": 0
                      },
                      {
                        "bin_start": -0.006512934408265919,
                        "bin_end": 0.003019241116414849,
                        "count": 0
                      },
                      {
                        "bin_start": 0.003019241116414849,
                        "bin_end": 0.012551416641095624,
                        "count": 0
                      },
                      {
                        "bin_start": 0.012551416641095624,
                        "bin_end": 0.022083592165776385,
                        "count": 0
                      },
                      {
                        "bin_start": 0.022083592165776385,
                        "bin_end": 0.03161576769045716,
                        "count": 0
                      },
                      {
                        "bin_start": 0.03161576769045716,
                        "bin_end": 0.041147943215137935,
                        "count": 0
                      },
                      {
                        "bin_start": 0.041147943215137935,
                        "bin_end": 0.0506801187398187,
                        "count": 2
                      }
                    ]
                  }
                },
                {
                  "name": 2,
                  "dtype": "float64",
                  "stats": {
                    "unique_count": 5,
                    "nan_count": 0,
                    "min": -0.0514740612388061,
                    "max": 0.0616962065186885,
                    "histogram": [
                      {
                        "bin_start": -0.0514740612388061,
                        "bin_end": -0.04015703446305664,
                        "count": 1
                      },
                      {
                        "bin_start": -0.04015703446305664,
                        "bin_end": -0.02884000768730718,
                        "count": 1
                      },
                      {
                        "bin_start": -0.02884000768730718,
                        "bin_end": -0.01752298091155772,
                        "count": 0
                      },
                      {
                        "bin_start": -0.01752298091155772,
                        "bin_end": -0.00620595413580826,
                        "count": 1
                      },
                      {
                        "bin_start": -0.00620595413580826,
                        "bin_end": 0.0051110726399411985,
                        "count": 0
                      },
                      {
                        "bin_start": 0.0051110726399411985,
                        "bin_end": 0.016428099415690664,
                        "count": 0
                      },
                      {
                        "bin_start": 0.016428099415690664,
                        "bin_end": 0.027745126191440123,
                        "count": 0
                      },
                      {
                        "bin_start": 0.027745126191440123,
                        "bin_end": 0.03906215296718958,
                        "count": 0
                      },
                      {
                        "bin_start": 0.03906215296718958,
                        "bin_end": 0.05037917974293904,
                        "count": 1
                      },
                      {
                        "bin_start": 0.05037917974293904,
                        "bin_end": 0.0616962065186885,
                        "count": 1
                      }
                    ]
                  }
                },
                {
                  "name": 3,
                  "dtype": "float64",
                  "stats": {
                    "unique_count": 4,
                    "nan_count": 0,
                    "min": -0.0366564467985606,
                    "max": 0.0218723549949558,
                    "histogram": [
                      {
                        "bin_start": -0.0366564467985606,
                        "bin_end": -0.030803566619208963,
                        "count": 1
                      },
                      {
                        "bin_start": -0.030803566619208963,
                        "bin_end": -0.024950686439857324,
                        "count": 1
                      },
                      {
                        "bin_start": -0.024950686439857324,
                        "bin_end": -0.01909780626050568,
                        "count": 0
                      },
                      {
                        "bin_start": -0.01909780626050568,
                        "bin_end": -0.013244926081154042,
                        "count": 0
                      },
                      {
                        "bin_start": -0.013244926081154042,
                        "bin_end": -0.0073920459018024035,
                        "count": 0
                      },
                      {
                        "bin_start": -0.0073920459018024035,
                        "bin_end": -0.001539165722450761,
                        "count": 1
                      },
                      {
                        "bin_start": -0.001539165722450761,
                        "bin_end": 0.0043137144569008745,
                        "count": 0
                      },
                      {
                        "bin_start": 0.0043137144569008745,
                        "bin_end": 0.010166594636252517,
                        "count": 0
                      },
                      {
                        "bin_start": 0.010166594636252517,
                        "bin_end": 0.01601947481560416,
                        "count": 0
                      },
                      {
                        "bin_start": 0.01601947481560416,
                        "bin_end": 0.0218723549949558,
                        "count": 2
                      }
                    ]
                  }
                },
                {
                  "name": 4,
                  "dtype": "float64",
                  "stats": {
                    "unique_count": 5,
                    "nan_count": 0,
                    "min": -0.0455994512826475,
                    "max": 0.0121905687618,
                    "histogram": [
                      {
                        "bin_start": -0.0455994512826475,
                        "bin_end": -0.03982044927820275,
                        "count": 2
                      },
                      {
                        "bin_start": -0.03982044927820275,
                        "bin_end": -0.034041447273758005,
                        "count": 0
                      },
                      {
                        "bin_start": -0.034041447273758005,
                        "bin_end": -0.02826244526931325,
                        "count": 0
                      },
                      {
                        "bin_start": -0.02826244526931325,
                        "bin_end": -0.0224834432648685,
                        "count": 0
                      },
                      {
                        "bin_start": -0.0224834432648685,
                        "bin_end": -0.016704441260423752,
                        "count": 0
                      },
                      {
                        "bin_start": -0.016704441260423752,
                        "bin_end": -0.010925439255978997,
                        "count": 0
                      },
                      {
                        "bin_start": -0.010925439255978997,
                        "bin_end": -0.0051464372515342485,
                        "count": 1
                      },
                      {
                        "bin_start": -0.0051464372515342485,
                        "bin_end": 0.0006325647529105,
                        "count": 0
                      },
                      {
                        "bin_start": 0.0006325647529105,
                        "bin_end": 0.0064115667573552484,
                        "count": 1
                      },
                      {
                        "bin_start": 0.0064115667573552484,
                        "bin_end": 0.0121905687618,
                        "count": 1
                      }
                    ]
                  }
                },
                {
                  "name": 5,
                  "dtype": "float64",
                  "stats": {
                    "unique_count": 5,
                    "nan_count": 0,
                    "min": -0.0348207628376986,
                    "max": 0.0249905933641021,
                    "histogram": [
                      {
                        "bin_start": -0.0348207628376986,
                        "bin_end": -0.02883962721751853,
                        "count": 2
                      },
                      {
                        "bin_start": -0.02883962721751853,
                        "bin_end": -0.02285849159733846,
                        "count": 0
                      },
                      {
                        "bin_start": -0.02285849159733846,
                        "bin_end": -0.016877355977158393,
                        "count": 1
                      },
                      {
                        "bin_start": -0.016877355977158393,
                        "bin_end": -0.01089622035697832,
                        "count": 0
                      },
                      {
                        "bin_start": -0.01089622035697832,
                        "bin_end": -0.0049150847367982475,
                        "count": 0
                      },
                      {
                        "bin_start": -0.0049150847367982475,
                        "bin_end": 0.001066050883381818,
                        "count": 0
                      },
                      {
                        "bin_start": 0.001066050883381818,
                        "bin_end": 0.0070471865035618905,
                        "count": 0
                      },
                      {
                        "bin_start": 0.0070471865035618905,
                        "bin_end": 0.013028322123741963,
                        "count": 0
                      },
                      {
                        "bin_start": 0.013028322123741963,
                        "bin_end": 0.019009457743922036,
                        "count": 1
                      },
                      {
                        "bin_start": 0.019009457743922036,
                        "bin_end": 0.0249905933641021,
                        "count": 1
                      }
                    ]
                  }
                },
                {
                  "name": 6,
                  "dtype": "float64",
                  "stats": {
                    "unique_count": 5,
                    "nan_count": 0,
                    "min": -0.0434008456520269,
                    "max": 0.0744115640787594,
                    "histogram": [
                      {
                        "bin_start": -0.0434008456520269,
                        "bin_end": -0.03161960467894827,
                        "count": 3
                      },
                      {
                        "bin_start": -0.03161960467894827,
                        "bin_end": -0.019838363705869638,
                        "count": 0
                      },
                      {
                        "bin_start": -0.019838363705869638,
                        "bin_end": -0.008057122732791008,
                        "count": 0
                      },
                      {
                        "bin_start": -0.008057122732791008,
                        "bin_end": 0.0037241182402876216,
                        "count": 0
                      },
                      {
                        "bin_start": 0.0037241182402876216,
                        "bin_end": 0.015505359213366252,
                        "count": 1
                      },
                      {
                        "bin_start": 0.015505359213366252,
                        "bin_end": 0.02728660018644488,
                        "count": 0
                      },
                      {
                        "bin_start": 0.02728660018644488,
                        "bin_end": 0.03906784115952351,
                        "count": 0
                      },
                      {
                        "bin_start": 0.03906784115952351,
                        "bin_end": 0.05084908213260214,
                        "count": 0
                      },
                      {
                        "bin_start": 0.05084908213260214,
                        "bin_end": 0.06263032310568077,
                        "count": 0
                      },
                      {
                        "bin_start": 0.06263032310568077,
                        "bin_end": 0.0744115640787594,
                        "count": 1
                      }
                    ]
                  }
                },
                {
                  "name": 7,
                  "dtype": "float64",
                  "stats": {
                    "unique_count": 3,
                    "nan_count": 0,
                    "min": -0.0394933828740919,
                    "max": 0.0343088588777263,
                    "histogram": [
                      {
                        "bin_start": -0.0394933828740919,
                        "bin_end": -0.03211315869891008,
                        "count": 1
                      },
                      {
                        "bin_start": -0.03211315869891008,
                        "bin_end": -0.024732934523728257,
                        "count": 0
                      },
                      {
                        "bin_start": -0.024732934523728257,
                        "bin_end": -0.017352710348546435,
                        "count": 0
                      },
                      {
                        "bin_start": -0.017352710348546435,
                        "bin_end": -0.009972486173364617,
                        "count": 0
                      },
                      {
                        "bin_start": -0.009972486173364617,
                        "bin_end": -0.002592261998182799,
                        "count": 3
                      },
                      {
                        "bin_start": -0.002592261998182799,
                        "bin_end": 0.004787962176999026,
                        "count": 0
                      },
                      {
                        "bin_start": 0.004787962176999026,
                        "bin_end": 0.012168186352180844,
                        "count": 0
                      },
                      {
                        "bin_start": 0.012168186352180844,
                        "bin_end": 0.019548410527362663,
                        "count": 0
                      },
                      {
                        "bin_start": 0.019548410527362663,
                        "bin_end": 0.02692863470254448,
                        "count": 0
                      },
                      {
                        "bin_start": 0.02692863470254448,
                        "bin_end": 0.0343088588777263,
                        "count": 1
                      }
                    ]
                  }
                },
                {
                  "name": 8,
                  "dtype": "float64",
                  "stats": {
                    "unique_count": 5,
                    "nan_count": 0,
                    "min": -0.0683297436244215,
                    "max": 0.0226920225667445,
                    "histogram": [
                      {
                        "bin_start": -0.0683297436244215,
                        "bin_end": -0.0592275670053049,
                        "count": 1
                      },
                      {
                        "bin_start": -0.0592275670053049,
                        "bin_end": -0.050125390386188295,
                        "count": 0
                      },
                      {
                        "bin_start": -0.050125390386188295,
                        "bin_end": -0.0410232137670717,
                        "count": 0
                      },
                      {
                        "bin_start": -0.0410232137670717,
                        "bin_end": -0.0319210371479551,
                        "count": 1
                      },
                      {
                        "bin_start": -0.0319210371479551,
                        "bin_end": -0.022818860528838497,
                        "count": 0
                      },
                      {
                        "bin_start": -0.022818860528838497,
                        "bin_end": -0.013716683909721902,
                        "count": 0
                      },
                      {
                        "bin_start": -0.013716683909721902,
                        "bin_end": -0.004614507290605294,
                        "count": 0
                      },
                      {
                        "bin_start": -0.004614507290605294,
                        "bin_end": 0.004487669328511301,
                        "count": 1
                      },
                      {
                        "bin_start": 0.004487669328511301,
                        "bin_end": 0.013589845947627896,
                        "count": 0
                      },
                      {
                        "bin_start": 0.013589845947627896,
                        "bin_end": 0.0226920225667445,
                        "count": 2
                      }
                    ]
                  }
                },
                {
                  "name": 9,
                  "dtype": "float64",
                  "stats": {
                    "unique_count": 5,
                    "nan_count": 0,
                    "min": -0.09220404962683,
                    "max": -0.0093619113301358,
                    "histogram": [
                      {
                        "bin_start": -0.09220404962683,
                        "bin_end": -0.08391983579716059,
                        "count": 1
                      },
                      {
                        "bin_start": -0.08391983579716059,
                        "bin_end": -0.07563562196749116,
                        "count": 0
                      },
                      {
                        "bin_start": -0.07563562196749116,
                        "bin_end": -0.06735140813782174,
                        "count": 0
                      },
                      {
                        "bin_start": -0.06735140813782174,
                        "bin_end": -0.05906719430815232,
                        "count": 0
                      },
                      {
                        "bin_start": -0.05906719430815232,
                        "bin_end": -0.0507829804784829,
                        "count": 0
                      },
                      {
                        "bin_start": -0.0507829804784829,
                        "bin_end": -0.04249876664881348,
                        "count": 1
                      },
                      {
                        "bin_start": -0.04249876664881348,
                        "bin_end": -0.03421455281914406,
                        "count": 0
                      },
                      {
                        "bin_start": -0.03421455281914406,
                        "bin_end": -0.02593033898947464,
                        "count": 0
                      },
                      {
                        "bin_start": -0.02593033898947464,
                        "bin_end": -0.017646125159805223,
                        "count": 1
                      },
                      {
                        "bin_start": -0.017646125159805223,
                        "bin_end": -0.0093619113301358,
                        "count": 2
                      }
                    ]
                  }
                },
                {
                  "name": 10,
                  "dtype": "float64",
                  "stats": {
                    "unique_count": 5,
                    "nan_count": 0,
                    "min": 75,
                    "max": 206,
                    "histogram": [
                      {
                        "bin_start": 75,
                        "bin_end": 88.1,
                        "count": 1
                      },
                      {
                        "bin_start": 88.1,
                        "bin_end": 101.2,
                        "count": 0
                      },
                      {
                        "bin_start": 101.2,
                        "bin_end": 114.3,
                        "count": 0
                      },
                      {
                        "bin_start": 114.3,
                        "bin_end": 127.4,
                        "count": 0
                      },
                      {
                        "bin_start": 127.4,
                        "bin_end": 140.5,
                        "count": 1
                      },
                      {
                        "bin_start": 140.5,
                        "bin_end": 153.6,
                        "count": 2
                      },
                      {
                        "bin_start": 153.6,
                        "bin_end": 166.7,
                        "count": 0
                      },
                      {
                        "bin_start": 166.7,
                        "bin_end": 179.8,
                        "count": 0
                      },
                      {
                        "bin_start": 179.8,
                        "bin_end": 192.89999999999998,
                        "count": 0
                      },
                      {
                        "bin_start": 192.89999999999998,
                        "bin_end": 206,
                        "count": 1
                      }
                    ]
                  }
                },
                {
                  "name": "_deepnote_index_column",
                  "dtype": "int64"
                }
              ],
              "rows_top": [
                {
                  "0": 0.0380759064334241,
                  "1": 0.0506801187398187,
                  "2": 0.0616962065186885,
                  "3": 0.0218723549949558,
                  "4": -0.0442234984244464,
                  "5": -0.0348207628376986,
                  "6": -0.0434008456520269,
                  "7": -0.00259226199818282,
                  "8": 0.0199084208763183,
                  "9": -0.0176461251598052,
                  "10": 151,
                  "_deepnote_index_column": 0
                },
                {
                  "0": -0.00188201652779104,
                  "1": -0.044641636506989,
                  "2": -0.0514740612388061,
                  "3": -0.0263278347173518,
                  "4": -0.00844872411121698,
                  "5": -0.019163339748222,
                  "6": 0.0744115640787594,
                  "7": -0.0394933828740919,
                  "8": -0.0683297436244215,
                  "9": -0.09220404962683,
                  "10": 75,
                  "_deepnote_index_column": 1
                },
                {
                  "0": 0.0852989062966783,
                  "1": 0.0506801187398187,
                  "2": 0.0444512133365941,
                  "3": -0.00567061055493425,
                  "4": -0.0455994512826475,
                  "5": -0.0341944659141195,
                  "6": -0.0323559322397657,
                  "7": -0.00259226199818282,
                  "8": 0.00286377051894013,
                  "9": -0.0259303389894746,
                  "10": 141,
                  "_deepnote_index_column": 2
                },
                {
                  "0": -0.0890629393522603,
                  "1": -0.044641636506989,
                  "2": -0.0115950145052127,
                  "3": -0.0366564467985606,
                  "4": 0.0121905687618,
                  "5": 0.0249905933641021,
                  "6": -0.0360375700438527,
                  "7": 0.0343088588777263,
                  "8": 0.0226920225667445,
                  "9": -0.0093619113301358,
                  "10": 206,
                  "_deepnote_index_column": 3
                },
                {
                  "0": 0.00538306037424807,
                  "1": -0.044641636506989,
                  "2": -0.0363846922044735,
                  "3": 0.0218723549949558,
                  "4": 0.00393485161259318,
                  "5": 0.0155961395104161,
                  "6": 0.0081420836051921,
                  "7": -0.00259226199818282,
                  "8": -0.0319914449413559,
                  "9": -0.0466408735636482,
                  "10": 135,
                  "_deepnote_index_column": 4
                }
              ],
              "rows_bottom": null
            },
            "text/plain": "         0         1         2         3         4         5         6   \\\n0  0.038076  0.050680  0.061696  0.021872 -0.044223 -0.034821 -0.043401   \n1 -0.001882 -0.044642 -0.051474 -0.026328 -0.008449 -0.019163  0.074412   \n2  0.085299  0.050680  0.044451 -0.005671 -0.045599 -0.034194 -0.032356   \n3 -0.089063 -0.044642 -0.011595 -0.036656  0.012191  0.024991 -0.036038   \n4  0.005383 -0.044642 -0.036385  0.021872  0.003935  0.015596  0.008142   \n\n         7         8         9      10  \n0 -0.002592  0.019908 -0.017646  151.0  \n1 -0.039493 -0.068330 -0.092204   75.0  \n2 -0.002592  0.002864 -0.025930  141.0  \n3  0.034309  0.022692 -0.009362  206.0  \n4 -0.002592 -0.031991 -0.046641  135.0  ",
            "text/html": "<div>\n<style scoped>\n    .dataframe tbody tr th:only-of-type {\n        vertical-align: middle;\n    }\n\n    .dataframe tbody tr th {\n        vertical-align: top;\n    }\n\n    .dataframe thead th {\n        text-align: right;\n    }\n</style>\n<table border=\"1\" class=\"dataframe\">\n  <thead>\n    <tr style=\"text-align: right;\">\n      <th></th>\n      <th>0</th>\n      <th>1</th>\n      <th>2</th>\n      <th>3</th>\n      <th>4</th>\n      <th>5</th>\n      <th>6</th>\n      <th>7</th>\n      <th>8</th>\n      <th>9</th>\n      <th>10</th>\n    </tr>\n  </thead>\n  <tbody>\n    <tr>\n      <th>0</th>\n      <td>0.038076</td>\n      <td>0.050680</td>\n      <td>0.061696</td>\n      <td>0.021872</td>\n      <td>-0.044223</td>\n      <td>-0.034821</td>\n      <td>-0.043401</td>\n      <td>-0.002592</td>\n      <td>0.019908</td>\n      <td>-0.017646</td>\n      <td>151.0</td>\n    </tr>\n    <tr>\n      <th>1</th>\n      <td>-0.001882</td>\n      <td>-0.044642</td>\n      <td>-0.051474</td>\n      <td>-0.026328</td>\n      <td>-0.008449</td>\n      <td>-0.019163</td>\n      <td>0.074412</td>\n      <td>-0.039493</td>\n      <td>-0.068330</td>\n      <td>-0.092204</td>\n      <td>75.0</td>\n    </tr>\n    <tr>\n      <th>2</th>\n      <td>0.085299</td>\n      <td>0.050680</td>\n      <td>0.044451</td>\n      <td>-0.005671</td>\n      <td>-0.045599</td>\n      <td>-0.034194</td>\n      <td>-0.032356</td>\n      <td>-0.002592</td>\n      <td>0.002864</td>\n      <td>-0.025930</td>\n      <td>141.0</td>\n    </tr>\n    <tr>\n      <th>3</th>\n      <td>-0.089063</td>\n      <td>-0.044642</td>\n      <td>-0.011595</td>\n      <td>-0.036656</td>\n      <td>0.012191</td>\n      <td>0.024991</td>\n      <td>-0.036038</td>\n      <td>0.034309</td>\n      <td>0.022692</td>\n      <td>-0.009362</td>\n      <td>206.0</td>\n    </tr>\n    <tr>\n      <th>4</th>\n      <td>0.005383</td>\n      <td>-0.044642</td>\n      <td>-0.036385</td>\n      <td>0.021872</td>\n      <td>0.003935</td>\n      <td>0.015596</td>\n      <td>0.008142</td>\n      <td>-0.002592</td>\n      <td>-0.031991</td>\n      <td>-0.046641</td>\n      <td>135.0</td>\n    </tr>\n  </tbody>\n</table>\n</div>"
          },
          "metadata": {}
        }
      ],
      "execution_count": 37
    },
    {
      "cell_type": "markdown",
      "source": "### Preprocessing",
      "metadata": {
        "tags": [],
        "cell_id": "00003-fcb9cd91-599e-4403-8921-b169d0afdff6",
        "deepnote_cell_type": "markdown"
      }
    },
    {
      "cell_type": "code",
      "metadata": {
        "tags": [],
        "deepnote_to_be_reexecuted": false,
        "source_hash": "317affe4",
        "execution_millis": 1459,
        "cell_id": "00004-3809c91d-a27b-4391-94e5-11c9609a86ad",
        "execution_start": 1614925788089,
        "deepnote_cell_type": "code"
      },
      "source": "sns.set(rc={'figure.figsize':(11.7,8.27)})\ncorrelation_matrix = data_df.corr().round(2)\nsns.heatmap(data=correlation_matrix, annot=True);",
      "execution_count": 38,
      "outputs": [
        {
          "data": {
            "text/plain": "<Figure size 842.4x595.44 with 2 Axes>",
            "image/png": "[encoded data removed]"
          },
          "metadata": {},
          "output_type": "display_data"
        }
      ]
    },
    {
      "cell_type": "markdown",
      "source": "Removing RAD as RAD and TAX have correlation 0.91 , whereas Tax Correlation with the target variable MEDV is higher than RAD vs MEDV",
      "metadata": {
        "tags": [],
        "cell_id": "00005-9f5e1326-3b96-4855-a2a9-bb9b092a544e",
        "deepnote_cell_type": "markdown"
      }
    },
    {
      "cell_type": "code",
      "metadata": {
        "tags": [],
        "deepnote_to_be_reexecuted": false,
        "source_hash": "f76e26d8",
        "execution_millis": 1,
        "cell_id": "00006-fa38a727-bbc5-4be2-8598-71ccd65403e4",
        "execution_start": 1614925828213,
        "deepnote_cell_type": "code"
      },
      "source": "data_df.drop(columns=5,inplace=True)\ndata_np = data_df.to_numpy()\n",
      "execution_count": 39,
      "outputs": []
    },
    {
      "cell_type": "code",
      "metadata": {
        "tags": [],
        "deepnote_to_be_reexecuted": false,
        "source_hash": "b31f6ce4",
        "execution_millis": 2,
        "cell_id": "00007-4a1de267-1725-4898-9f00-d6420624f305",
        "execution_start": 1614925828665,
        "deepnote_cell_type": "code"
      },
      "source": "scaler.fit_transform(data_np);",
      "execution_count": 40,
      "outputs": []
    },
    {
      "cell_type": "code",
      "metadata": {
        "tags": [],
        "deepnote_to_be_reexecuted": false,
        "source_hash": "a884c6ae",
        "execution_millis": 1,
        "cell_id": "00008-2f13e230-00d5-4050-99e9-203bba612bad",
        "execution_start": 1614925833822,
        "deepnote_cell_type": "code"
      },
      "source": "x_train , x_test , y_train , y_test =  train_test_split(data_np[:,:-1],data_np[:,-1],test_size=0.2,shuffle=True)",
      "execution_count": 41,
      "outputs": []
    },
    {
      "cell_type": "markdown",
      "source": "#### Creating Function",
      "metadata": {
        "tags": [],
        "cell_id": "00009-1cbfea06-2a66-4d3f-9978-1fa253c126ab",
        "deepnote_cell_type": "markdown"
      }
    },
    {
      "cell_type": "markdown",
      "source": "##### Function to calculate metrics",
      "metadata": {
        "tags": [],
        "cell_id": "00010-0502b6f0-1247-47d5-913e-529be196e598",
        "deepnote_cell_type": "markdown"
      }
    },
    {
      "cell_type": "code",
      "metadata": {
        "tags": [],
        "deepnote_to_be_reexecuted": false,
        "source_hash": "5737c606",
        "execution_millis": 2,
        "cell_id": "00011-a69acd7d-62aa-4515-aa2b-8f3caa06e930",
        "execution_start": 1614925839610,
        "deepnote_cell_type": "code"
      },
      "source": "### Code for metrics Calculation\ndef metrica(model , x_train , y_train , x_test , y_test,p,lambda_= None):\n    regressor = model(lambda_)                #Initializing Model\n    regressor.fit(x_train,y_train)            #Fitting Model\n    prediction = regressor.predict(x_test)    # Predicting Model\n\n    # Calculatiog metrics RMSE and R^2\n\n    rmse =  metrics.mean_squared_error(y_test,prediction,squared=False)\n    r2 = metrics.r2_score(y_test,prediction)\n\n    if p == True:\n        return print( \"RMSE is \" + str(rmse) + \" and R^2 is \" + str(r2) )\n    else:\n        return np.array([rmse , r2])",
      "execution_count": 42,
      "outputs": []
    },
    {
      "cell_type": "markdown",
      "source": "##### Function for Cross Validation",
      "metadata": {
        "tags": [],
        "cell_id": "00012-8b923f34-b5a7-4a22-b8e4-47243e05dee8",
        "deepnote_cell_type": "markdown"
      }
    },
    {
      "cell_type": "code",
      "metadata": {
        "tags": [],
        "deepnote_to_be_reexecuted": false,
        "source_hash": "ed7a1db5",
        "execution_millis": 2,
        "cell_id": "00013-116a5a6e-0dcf-49a8-965f-29bd4d384aaf",
        "execution_start": 1614925845613,
        "deepnote_cell_type": "code"
      },
      "source": "class cv_model:\n    def __init__(self,model,data,fold,lambda_=None):\n        self.model = model\n        self.X  = data[:,:-1]\n        self.y  = data[:,-1]\n        self.fold  = fold\n        self.lambda_ = lambda_\n\n    def compute(self):\n        kf = KFold(n_splits=self.fold)\n        regressor = self.model(self.lambda_)\n        a = np.empty(self.fold,dtype=np.float64)\n        b = np.empty(self.fold,dtype=np.float64)\n        count = -1\n        for train_index, test_index in kf.split(self.X):\n            count = count +1\n            X_train, X_test = self.X[train_index], self.X[test_index]\n            y_train, y_test = self.y[train_index], self.y[test_index]\n            regressor.fit(X_train,y_train)\n            prediction = regressor.predict(X_test)\n            rmse_ =  metrics.mean_squared_error(y_test,prediction,squared=False)\n            r2_ = metrics.r2_score(y_test,prediction)\n            a[count]=rmse_\n            b[count]=r2_\n        self.rmse = a\n        self.r2 = b\n        return self",
      "execution_count": 43,
      "outputs": []
    },
    {
      "cell_type": "markdown",
      "source": "## MLR",
      "metadata": {
        "tags": [],
        "cell_id": "00014-ff832f72-7a84-4e68-a28a-2543a295e746",
        "deepnote_cell_type": "markdown"
      }
    },
    {
      "cell_type": "markdown",
      "source": "We are going to use the following formula\n\n$$\\beta = (X^TX)^{-1}X^TY$$\n\n",
      "metadata": {
        "tags": [],
        "cell_id": "00015-6cd6cbeb-e367-42bb-add4-a0c3c83ea804",
        "deepnote_cell_type": "markdown"
      }
    },
    {
      "cell_type": "code",
      "metadata": {
        "tags": [],
        "deepnote_to_be_reexecuted": false,
        "source_hash": "ce5853ff",
        "execution_millis": 1,
        "cell_id": "00016-019e140e-ad17-42ef-84d9-06c1be16780b",
        "execution_start": 1614925858493,
        "deepnote_cell_type": "code"
      },
      "source": "class MLR:\n    def __init__(self, lambda_):\n        self.lambda_ = lambda_\n        \n    def fit(self,x,y):\n        x = np.c_[np.ones(x.shape[0]),x]\n        x_transpose = x.transpose()    # Transpose of x_train\n        x_t_x = np.matmul(x_transpose,x)\n        x_t_x_inv = np.linalg.inv(x_t_x)\n        self.beta = np.matmul(np.matmul(x_t_x_inv,x_transpose),y)\n        return self\n\n    def predict(self,x_test):\n        x_test = np.c_[np.ones(x_test.shape[0]),x_test]\n        return np.matmul(x_test,self.beta)",
      "execution_count": 44,
      "outputs": []
    },
    {
      "cell_type": "code",
      "metadata": {
        "tags": [],
        "deepnote_to_be_reexecuted": false,
        "source_hash": "5d14cd51",
        "execution_millis": 13,
        "cell_id": "00017-647b5660-f81f-4626-a050-fac111235088",
        "execution_start": 1614925862094,
        "deepnote_cell_type": "code"
      },
      "source": "metrica(MLR,x_train,y_train,x_test,y_test,p=True)",
      "execution_count": 45,
      "outputs": [
        {
          "name": "stdout",
          "text": "RMSE is 55.503428702156576 and R^2 is 0.4572243405106686\n",
          "output_type": "stream"
        }
      ]
    },
    {
      "cell_type": "markdown",
      "source": "## Cross Validation for MLR",
      "metadata": {
        "tags": [],
        "cell_id": "00018-ec2dc77a-5c25-4638-a0a0-9714ed477fdc",
        "deepnote_cell_type": "markdown"
      }
    },
    {
      "cell_type": "code",
      "metadata": {
        "tags": [],
        "deepnote_to_be_reexecuted": false,
        "source_hash": "f542bf",
        "execution_millis": 13,
        "cell_id": "00019-beb285c5-fe68-4994-ab6f-f648e338bfbb",
        "execution_start": 1614925865181,
        "deepnote_cell_type": "code"
      },
      "source": "cv_MLR = cv_model(MLR,data_np,5)\ncv_MLR.compute();\n",
      "execution_count": 46,
      "outputs": []
    },
    {
      "cell_type": "code",
      "metadata": {
        "tags": [],
        "deepnote_to_be_reexecuted": false,
        "source_hash": "a87ae996",
        "execution_millis": 6,
        "cell_id": "00020-e5a3b5eb-9457-4a19-8654-9af2b2b857fd",
        "execution_start": 1614925872570,
        "deepnote_cell_type": "code"
      },
      "source": "print(\"Mean of RMSE is \"+ str(cv_MLR.rmse.mean())+\" and R^2 is \" + str(cv_MLR.r2.mean()))",
      "execution_count": 47,
      "outputs": [
        {
          "name": "stdout",
          "text": "Mean of RMSE is 54.793430800548 and R^2 is 0.48034480131995616\n",
          "output_type": "stream"
        }
      ]
    },
    {
      "cell_type": "markdown",
      "source": "## Ridge\n\n\n$\\beta_{Ridge} = (X^TX+\\lambda I)^{-1}X^Ty $",
      "metadata": {
        "tags": [],
        "cell_id": "00021-a3512085-9776-4922-b153-7bff9c862ccb",
        "deepnote_cell_type": "markdown"
      }
    },
    {
      "cell_type": "code",
      "metadata": {
        "tags": [],
        "deepnote_to_be_reexecuted": false,
        "source_hash": "35614bae",
        "execution_millis": 4,
        "cell_id": "00022-9a9ef3fe-960a-46c8-8687-eda4acb2233a",
        "execution_start": 1614925877691,
        "deepnote_cell_type": "code"
      },
      "source": "class ridge:\n    def __init__(self, lambda_):\n        self.lambda_ = lambda_\n\n    def fit(self,x,y):\n        x = np.c_[np.ones(x.shape[0]),x]\n        x_transpose = x.transpose()    # Transpose of x_train\n        x_t_x = np.matmul(x_transpose,x)\n        x_t_x_l_inv = np.linalg.inv(x_t_x+self.lambda_ * np.identity(x_t_x.shape[1]))\n        self.beta = np.matmul(np.matmul(x_t_x_l_inv,x_transpose),y)\n        return self\n\n    def predict(self,x_test):\n        x_test = np.c_[np.ones(x_test.shape[0]),x_test]\n        return np.matmul(x_test,self.beta)\n",
      "execution_count": 48,
      "outputs": []
    },
    {
      "cell_type": "code",
      "metadata": {
        "tags": [],
        "deepnote_to_be_reexecuted": false,
        "source_hash": "b444b731",
        "execution_millis": 1,
        "cell_id": "00023-c700e2c0-86a0-4a6f-9ec6-ada92877152b",
        "execution_start": 1614925883136,
        "deepnote_cell_type": "code"
      },
      "source": "metrica(ridge,x_train,y_train,x_test,y_test,p=True,lambda_=0.11)",
      "execution_count": 49,
      "outputs": [
        {
          "name": "stdout",
          "text": "RMSE is 55.6616937551178 and R^2 is 0.4541245359191889\n",
          "output_type": "stream"
        }
      ]
    },
    {
      "cell_type": "code",
      "metadata": {
        "tags": [],
        "deepnote_to_be_reexecuted": false,
        "source_hash": "bed8ea8",
        "execution_millis": 0,
        "cell_id": "00024-a36d65ab-07d3-416a-8f9a-5e66ca7fbf8b",
        "execution_start": 1614925890341,
        "deepnote_cell_type": "code"
      },
      "source": "# plot_rmse(model,x_train,y_train,x_test,y_test):\n#    fun = lambda lambda_: metrica(model,x_train,y_train,x_test,y_test,p=False,lambda_=1)[0]\n#    x = np.arange(100)*0.1\n#    y = np.array(list(map(fun,x)))\n#    plt.plot(x,y)\n#    plt.xlim(4,5)\n#    plt.show",
      "execution_count": 50,
      "outputs": []
    },
    {
      "cell_type": "markdown",
      "source": "## Cross Validation for Ridge",
      "metadata": {
        "tags": [],
        "cell_id": "00025-d4d626a2-f36a-43e6-ba40-8f3a4c7309e3",
        "deepnote_cell_type": "markdown"
      }
    },
    {
      "cell_type": "code",
      "metadata": {
        "tags": [],
        "deepnote_to_be_reexecuted": false,
        "source_hash": "d4389b86",
        "execution_millis": 8,
        "output_cleared": true,
        "cell_id": "00026-9cc8dfd5-d44b-45d7-beb0-a345fdb7cbfc",
        "execution_start": 1614925891260,
        "deepnote_cell_type": "code"
      },
      "source": "cv_ridge = cv_model(ridge,data_np,5,lambda_=1) \ncv_ridge.compute();",
      "execution_count": 51,
      "outputs": []
    },
    {
      "cell_type": "code",
      "metadata": {
        "tags": [],
        "deepnote_to_be_reexecuted": false,
        "source_hash": "86a053e9",
        "execution_millis": 7,
        "cell_id": "00027-01efc3b9-f264-4295-b349-77c865c7b447",
        "execution_start": 1614925895368,
        "deepnote_cell_type": "code"
      },
      "source": "print(\"Mean of RMSE is \"+ str(cv_ridge.rmse.mean())+\" and R^2 is \" + str(cv_ridge.r2.mean()))",
      "execution_count": 52,
      "outputs": [
        {
          "name": "stdout",
          "text": "Mean of RMSE is 58.454725541540974 and R^2 is 0.41016821746374876\n",
          "output_type": "stream"
        }
      ]
    },
    {
      "cell_type": "markdown",
      "source": "## Lasso\n\n\n",
      "metadata": {
        "tags": [],
        "cell_id": "00028-b389e293-67e7-4320-8eda-705ce1d63048",
        "deepnote_cell_type": "markdown"
      }
    },
    {
      "cell_type": "code",
      "metadata": {
        "tags": [],
        "deepnote_to_be_reexecuted": false,
        "source_hash": "5bc10618",
        "execution_millis": 9,
        "cell_id": "00029-90902646-b7ad-4109-b01e-8126e6c2f96b",
        "execution_start": 1614925901052,
        "deepnote_cell_type": "code"
      },
      "source": "metrica(Lasso,x_train,y_train,x_test,y_test,p=True,lambda_=0.11)",
      "execution_count": 53,
      "outputs": [
        {
          "name": "stdout",
          "text": "RMSE is 56.093938636158484 and R^2 is 0.44561354713419976\n",
          "output_type": "stream"
        }
      ]
    },
    {
      "cell_type": "markdown",
      "source": "## Cross Validation on Lasso",
      "metadata": {
        "tags": [],
        "cell_id": "00030-d4778551-02aa-478b-99ba-5ea62c88b54a",
        "deepnote_cell_type": "markdown"
      }
    },
    {
      "cell_type": "code",
      "metadata": {
        "tags": [],
        "deepnote_to_be_reexecuted": false,
        "source_hash": "4c1020f7",
        "execution_millis": 8,
        "cell_id": "00031-9e5d4b6d-a913-4f21-a0cb-8090f036336c",
        "execution_start": 1614925904580,
        "deepnote_cell_type": "code"
      },
      "source": "cv_lasso = cv_model(Lasso,data_np,5,lambda_=0.11) \ncv_lasso.compute();",
      "execution_count": 54,
      "outputs": []
    },
    {
      "cell_type": "code",
      "metadata": {
        "tags": [],
        "deepnote_to_be_reexecuted": false,
        "source_hash": "d480be1d",
        "execution_millis": 7,
        "cell_id": "00032-c7a79b95-cdbe-4378-a135-0950ebc91b09",
        "execution_start": 1614925905091,
        "deepnote_cell_type": "code"
      },
      "source": "print(\"Mean of RMSE is \"+ str(cv_lasso.rmse.mean())+\" and R^2 is \" + str(cv_lasso.r2.mean()))",
      "execution_count": 55,
      "outputs": [
        {
          "name": "stdout",
          "text": "Mean of RMSE is 54.881740603960864 and R^2 is 0.4788074498228546\n",
          "output_type": "stream"
        }
      ]
    },
    {
      "cell_type": "markdown",
      "source": "## k-NN Regressor",
      "metadata": {
        "tags": [],
        "cell_id": "00033-f809e5f8-db1e-4c00-b3eb-6c2de4d26f03",
        "deepnote_cell_type": "markdown"
      }
    },
    {
      "cell_type": "code",
      "metadata": {
        "tags": [],
        "deepnote_to_be_reexecuted": false,
        "source_hash": "f9233f99",
        "execution_millis": 6,
        "cell_id": "00034-b57825b6-b475-4a22-9bc4-49aeb6846e3c",
        "execution_start": 1614925909181,
        "deepnote_cell_type": "code"
      },
      "source": "metrica(KNeighborsRegressor , x_train , y_train , x_test , y_test,p=True,lambda_= 6)",
      "execution_count": 56,
      "outputs": [
        {
          "name": "stdout",
          "text": "RMSE is 55.38765327066549 and R^2 is 0.4594863465924769\n",
          "output_type": "stream"
        }
      ]
    },
    {
      "cell_type": "markdown",
      "source": "##### Cross Validation for k-NN Regressor",
      "metadata": {
        "tags": [],
        "cell_id": "00035-7249b88d-5a7c-494e-88d7-a9ac73a08251",
        "deepnote_cell_type": "markdown"
      }
    },
    {
      "cell_type": "code",
      "metadata": {
        "tags": [],
        "deepnote_to_be_reexecuted": false,
        "source_hash": "3eaf46f4",
        "execution_millis": 10,
        "cell_id": "00036-720e427a-664e-41fa-adc7-8b18e273e23b",
        "execution_start": 1614925912771,
        "deepnote_cell_type": "code"
      },
      "source": "cv_knn = cv_model(KNeighborsRegressor,data_np,5,lambda_=9) \ncv_knn.compute();\n",
      "execution_count": 57,
      "outputs": []
    },
    {
      "cell_type": "code",
      "metadata": {
        "tags": [],
        "deepnote_to_be_reexecuted": false,
        "source_hash": "4ce65647",
        "execution_millis": 7,
        "cell_id": "00037-e0be4b96-2a32-4c23-8847-4674d276541a",
        "execution_start": 1614925916129,
        "deepnote_cell_type": "code"
      },
      "source": "print(\"Mean of RMSE is \"+ str(cv_knn.rmse.mean())+\" and R^2 is \" + str(cv_knn.r2.mean()))",
      "execution_count": 58,
      "outputs": [
        {
          "name": "stdout",
          "text": "Mean of RMSE is 57.39546786126921 and R^2 is 0.4303724412932386\n",
          "output_type": "stream"
        }
      ]
    },
    {
      "cell_type": "markdown",
      "source": "#### Tree Ensemble using XG Boost",
      "metadata": {
        "tags": [],
        "cell_id": "00038-40befc52-2452-4788-a7ce-401ad19229dd",
        "deepnote_cell_type": "markdown"
      }
    },
    {
      "cell_type": "code",
      "metadata": {
        "tags": [],
        "deepnote_to_be_reexecuted": false,
        "source_hash": "af4ee992",
        "execution_millis": 2,
        "cell_id": "00039-f6151e85-ddc5-4228-a17b-d3cab4197ec7",
        "execution_start": 1614925943490,
        "deepnote_cell_type": "code"
      },
      "source": "import xgboost as xgb\nmodel = lambda lambda_ : xgb.XGBRegressor(objective ='reg:squarederror', colsample_bytree = 0.3, learning_rate = 0.1,\n                max_depth = 10, alpha = 2, n_estimators = 100)",
      "execution_count": 63,
      "outputs": []
    },
    {
      "cell_type": "code",
      "metadata": {
        "tags": [],
        "deepnote_to_be_reexecuted": false,
        "source_hash": "af7cb2c8",
        "execution_millis": 84,
        "cell_id": "00040-ff9a12d4-8d53-4539-83ce-c2dce7cc2e4f",
        "execution_start": 1614925946225,
        "deepnote_cell_type": "code"
      },
      "source": "metrica(model,x_train,y_train,x_test,y_test,p=True,lambda_=None)",
      "execution_count": 64,
      "outputs": [
        {
          "name": "stdout",
          "text": "RMSE is 58.96151076307278 and R^2 is 0.38748328485064687\n",
          "output_type": "stream"
        }
      ]
    },
    {
      "cell_type": "markdown",
      "source": "### Cross Validation for XGBoost",
      "metadata": {
        "tags": [],
        "cell_id": "00041-71819f9b-435c-4a58-bff6-f96e42546bc3",
        "deepnote_cell_type": "markdown"
      }
    },
    {
      "cell_type": "code",
      "metadata": {
        "tags": [],
        "deepnote_to_be_reexecuted": false,
        "source_hash": "3cf83bff",
        "execution_millis": 1227,
        "cell_id": "00042-cefad688-d1c1-44fb-93b6-c4bb178935e0",
        "execution_start": 1614925953611,
        "deepnote_cell_type": "code"
      },
      "source": "cv_xgb = cv_model(model,data_np,6,lambda_=9) \ncv_xgb.compute();",
      "execution_count": 65,
      "outputs": []
    },
    {
      "cell_type": "code",
      "metadata": {
        "tags": [],
        "deepnote_to_be_reexecuted": false,
        "source_hash": "a9e8adcf",
        "execution_millis": 8,
        "cell_id": "00043-7b33b490-dda8-45ac-a0fe-3fce8f03ea42",
        "execution_start": 1614925957460,
        "deepnote_cell_type": "code"
      },
      "source": "print(\"Mean of RMSE is \"+ str(cv_xgb.rmse.mean())+\" and R^2 is \" + str(cv_xgb.r2.mean()))",
      "execution_count": 66,
      "outputs": [
        {
          "name": "stdout",
          "text": "Mean of RMSE is 60.51781851966147 and R^2 is 0.3652548499413031\n",
          "output_type": "stream"
        }
      ]
    },
    {
      "cell_type": "markdown",
      "source": "# COBRA",
      "metadata": {
        "tags": [],
        "cell_id": "00044-165cc2ef-1ee5-434c-91eb-e2e81d552e27",
        "deepnote_cell_type": "markdown"
      }
    },
    {
      "cell_type": "markdown",
      "source": "Taking the following Machines in Consideration\n\n1. $r_1$ = MLR\n2. $r_2$ = Ridge\n3. $r_3$ = Lasso\n4. $r_4,r_5,r_6,r_7$ = k-NN with 5,10,15, and 20 Neighbors\n5. $r_8,r_9,r_{10},r_{11},r_{12}$ = Tree Ensemble with 20,40,60,80,100 Trees",
      "metadata": {
        "tags": [],
        "cell_id": "00045-93c5d755-7e94-4afd-84f5-1b0b0883966a",
        "deepnote_cell_type": "markdown"
      }
    },
    {
      "cell_type": "code",
      "metadata": {
        "tags": [],
        "deepnote_to_be_reexecuted": false,
        "source_hash": "635f035d",
        "execution_millis": 2,
        "cell_id": "00046-891f2ec9-d12f-489e-adf5-5120e4d0ca2d",
        "execution_start": 1614925964874,
        "deepnote_cell_type": "code"
      },
      "source": "class COBRA:\n    def __init__(self, lambda_):\n        self.eta = lambda_\n        \n    def fit(self,x,y):\n        r_1 = MLR(lambda_=None)\n        r_2 = ridge(lambda_=1)\n        r_3 = Lasso(alpha = 1)\n        \n        r_7 = xgb.XGBRegressor(objective ='reg:squarederror', colsample_bytree = 0.3, learning_rate = 0.1,\n                max_depth = 5, alpha = 2, n_estimators = 20)\n        r_8 = xgb.XGBRegressor(objective ='reg:squarederror', colsample_bytree = 0.3, learning_rate = 0.1,\n                max_depth = 5, alpha = 2, n_estimators = 40)\n        r_9 = xgb.XGBRegressor(objective ='reg:squarederror', colsample_bytree = 0.3, learning_rate = 0.1,\n                max_depth = 5, alpha = 2, n_estimators = 60)\n        r_10 = xgb.XGBRegressor(objective ='reg:squarederror', colsample_bytree = 0.3, learning_rate = 0.1,\n                max_depth = 2, alpha = 2, n_estimators = 80)\n        r_11 = xgb.XGBRegressor(objective ='reg:squarederror', colsample_bytree = 0.3, learning_rate = 0.1,\n                max_depth = 10, alpha = 2, n_estimators = 100)\n        machines = [r_1,r_2,r_3,r_8,r_7,r_9,r_10,r_11]\n        train_predict = []\n        for machine in machines:\n            machine.fit(x,y)\n            train_predict.append(machine.predict(x))\n        self.machines = machines\n        self.train_predict = np.transpose(np.array(train_predict))\n        return self\n\n\n    def predict(self,x_test):\n        test_predict  = []\n        for machine in self.machines:\n            test_predict.append(machine.predict(x_test))\n        test_predict = np.transpose(np.array(test_predict))\n\n        prediction = []\n        for row in test_predict:\n            m = []\n            count=-1\n            row_0 = np.array(row)-self.eta\n            row_1 = np.array(row)+self.eta\n            for rowii in self.train_predict:\n                count = count+1\n                rowii = np.array(rowii)\n                if all(rowii > row_0) and all(rowii < row_1):\n                    m.append(y_train[count])\n            prediction.append(np.array(m).mean())\n        return np.array(prediction)",
      "execution_count": 67,
      "outputs": []
    },
    {
      "cell_type": "code",
      "metadata": {
        "tags": [],
        "deepnote_to_be_reexecuted": false,
        "source_hash": "6b99347e",
        "execution_millis": 601,
        "cell_id": "00047-4edfe80a-e00c-4187-97e6-1a5caec451b2",
        "execution_start": 1614925985556,
        "deepnote_cell_type": "code"
      },
      "source": "metrica(COBRA , x_train , y_train , x_test , y_test,p=True,lambda_= 25)",
      "execution_count": 70,
      "outputs": [
        {
          "name": "stdout",
          "text": "RMSE is 58.42660696568157 and R^2 is 0.3985464796395116\n",
          "output_type": "stream"
        }
      ]
    },
    {
      "cell_type": "code",
      "metadata": {
        "tags": [],
        "deepnote_to_be_reexecuted": false,
        "source_hash": "b623e53d",
        "execution_millis": 3,
        "execution_start": 1614923026781,
        "cell_id": "00049-af85ff5a-7240-44f0-b697-b7b3420aded2",
        "deepnote_cell_type": "code"
      },
      "source": "",
      "outputs": [],
      "execution_count": null
    },
    {
      "cell_type": "markdown",
      "source": "#### Cooks Distance Using MLR",
      "metadata": {
        "tags": [],
        "cell_id": "00050-1ecb9dd5-bf37-49de-b7a8-d969556d9123",
        "deepnote_cell_type": "markdown"
      }
    },
    {
      "cell_type": "code",
      "metadata": {
        "tags": [],
        "deepnote_to_be_reexecuted": false,
        "source_hash": "c4268b43",
        "execution_millis": 1,
        "cell_id": "00051-92035b0d-8a6b-4639-b74f-f5ca3b917598",
        "execution_start": 1614926006033,
        "deepnote_cell_type": "code"
      },
      "source": "def cooks_d(x,y):\n    x = np.c_[np.ones(x.shape[0]),x]\n    Hat = np.matmul(np.matmul(x,np.linalg.inv(np.matmul(np.transpose(x),x))),np.transpose(x))\n    SS_res = np.matmul(np.matmul(np.transpose(y),np.identity(Hat.shape[0]) - Hat),y)\n    MS_res = SS_res/(x.shape[0]-x.shape[1])\n    k = np.trace(Hat)\n    x_transpose = x.transpose()\n    x_t_x = np.matmul(x_transpose,x)\n    d = []\n    def beta(x,y):\n        x_transpose = x.transpose()\n        x_t_x = np.matmul(x_transpose,x)\n        x_t_x_inv = np.linalg.inv(x_t_x)\n        return np.matmul(np.matmul(x_t_x_inv,x_transpose),y)\n    beta_all = beta(x,y)\n\n    for i in range(x.shape[0]):\n        x_new = np.delete(x,i,axis=0)\n        y_new = np.delete(y,i,axis=0)\n        beta_new = beta(x_new,y_new)\n        b = beta_new - beta_all\n        de = np.matmul(np.matmul(np.transpose(b),x_t_x),b)/(k*MS_res)\n        d.append(de)\n    return np.array(d)",
      "execution_count": 71,
      "outputs": []
    },
    {
      "cell_type": "code",
      "metadata": {
        "tags": [],
        "deepnote_to_be_reexecuted": false,
        "source_hash": "92b2c609",
        "execution_millis": 123,
        "cell_id": "00052-4bd005cb-daf1-4de0-83c4-d8fe00cb25a6",
        "execution_start": 1614926010002,
        "deepnote_cell_type": "code"
      },
      "source": "distance = cooks_d(data_np[:,:-1],data_np[:,-1])",
      "execution_count": 72,
      "outputs": []
    },
    {
      "cell_type": "code",
      "metadata": {
        "tags": [],
        "deepnote_to_be_reexecuted": false,
        "source_hash": "e2681688",
        "execution_millis": 9,
        "cell_id": "00053-81cf8536-3a50-4c6a-a2eb-93a69ee25a56",
        "execution_start": 1614926013384,
        "deepnote_cell_type": "code"
      },
      "source": "np.sum(distance>1)",
      "execution_count": 73,
      "outputs": [
        {
          "output_type": "execute_result",
          "execution_count": 73,
          "data": {
            "text/plain": "0"
          },
          "metadata": {}
        }
      ]
    },
    {
      "cell_type": "markdown",
      "source": "Hence There are not any Cooks Distance Greater than 1, so we conclude that there are no outliers",
      "metadata": {
        "tags": [],
        "cell_id": "00054-4b839113-1a79-4764-be04-271bdf50d661",
        "deepnote_cell_type": "markdown"
      }
    },
    {
      "cell_type": "code",
      "metadata": {
        "tags": [],
        "cell_id": "00055-85cd105c-d5a9-4f41-8b31-1d45b5922af1",
        "deepnote_to_be_reexecuted": false,
        "source_hash": "863041b1",
        "execution_millis": 1,
        "execution_start": 1614924909010,
        "deepnote_cell_type": "code"
      },
      "source": "from sklearn.datasets import load_diabetes",
      "execution_count": 4,
      "outputs": []
    },
    {
      "cell_type": "code",
      "source": "",
      "metadata": {
        "tags": [],
        "cell_id": "00056-cfb22708-4d3c-4c68-b83f-677fd9d2a3b7",
        "deepnote_to_be_reexecuted": false,
        "source_hash": "b167471a",
        "execution_start": 1614924919391,
        "execution_millis": 18,
        "deepnote_cell_type": "code"
      },
      "outputs": [],
      "execution_count": 5
    },
    {
      "cell_type": "code",
      "source": "x = d.data",
      "metadata": {
        "tags": [],
        "cell_id": "00057-247049f9-fd07-453a-8532-50f3834e7ab2",
        "deepnote_to_be_reexecuted": false,
        "source_hash": "a556737c",
        "execution_start": 1614924939748,
        "execution_millis": 2,
        "deepnote_cell_type": "code"
      },
      "outputs": [],
      "execution_count": 6
    },
    {
      "cell_type": "code",
      "source": "x.shape",
      "metadata": {
        "tags": [],
        "cell_id": "00058-e03b0c8b-9ccd-407a-a26b-228fcfad4f35",
        "deepnote_to_be_reexecuted": false,
        "source_hash": "6b24cdd5",
        "execution_millis": 5,
        "execution_start": 1614924952723,
        "deepnote_cell_type": "code"
      },
      "outputs": [
        {
          "output_type": "execute_result",
          "execution_count": 8,
          "data": {
            "text/plain": "(442, 10)"
          },
          "metadata": {}
        }
      ],
      "execution_count": 8
    },
    {
      "cell_type": "code",
      "source": "d.info",
      "metadata": {
        "tags": [],
        "cell_id": "00059-4f840afd-c022-414f-9463-6c60cd2ca177",
        "deepnote_to_be_reexecuted": false,
        "source_hash": "8c21e9e8",
        "execution_start": 1614924964850,
        "execution_millis": 13,
        "deepnote_cell_type": "code"
      },
      "outputs": [
        {
          "output_type": "error",
          "ename": "AttributeError",
          "evalue": "info",
          "traceback": [
            "\u001b[0;31m---------------------------------------------------------------------------\u001b[0m",
            "\u001b[0;31mKeyError\u001b[0m                                  Traceback (most recent call last)",
            "\u001b[0;32m/shared-libs/python3.7/py/lib/python3.7/site-packages/sklearn/utils/__init__.py\u001b[0m in \u001b[0;36m__getattr__\u001b[0;34m(self, key)\u001b[0m\n\u001b[1;32m     93\u001b[0m         \u001b[0;32mtry\u001b[0m\u001b[0;34m:\u001b[0m\u001b[0;34m\u001b[0m\u001b[0;34m\u001b[0m\u001b[0m\n\u001b[0;32m---> 94\u001b[0;31m             \u001b[0;32mreturn\u001b[0m \u001b[0mself\u001b[0m\u001b[0;34m[\u001b[0m\u001b[0mkey\u001b[0m\u001b[0;34m]\u001b[0m\u001b[0;34m\u001b[0m\u001b[0;34m\u001b[0m\u001b[0m\n\u001b[0m\u001b[1;32m     95\u001b[0m         \u001b[0;32mexcept\u001b[0m \u001b[0mKeyError\u001b[0m\u001b[0;34m:\u001b[0m\u001b[0;34m\u001b[0m\u001b[0;34m\u001b[0m\u001b[0m\n",
            "\u001b[0;31mKeyError\u001b[0m: 'info'",
            "\nDuring handling of the above exception, another exception occurred:\n",
            "\u001b[0;31mAttributeError\u001b[0m                            Traceback (most recent call last)",
            "\u001b[0;32m<ipython-input-9-8c93126ece5d>\u001b[0m in \u001b[0;36m<module>\u001b[0;34m\u001b[0m\n\u001b[0;32m----> 1\u001b[0;31m \u001b[0md\u001b[0m\u001b[0;34m.\u001b[0m\u001b[0minfo\u001b[0m\u001b[0;34m\u001b[0m\u001b[0;34m\u001b[0m\u001b[0m\n\u001b[0m",
            "\u001b[0;32m/shared-libs/python3.7/py/lib/python3.7/site-packages/sklearn/utils/__init__.py\u001b[0m in \u001b[0;36m__getattr__\u001b[0;34m(self, key)\u001b[0m\n\u001b[1;32m     94\u001b[0m             \u001b[0;32mreturn\u001b[0m \u001b[0mself\u001b[0m\u001b[0;34m[\u001b[0m\u001b[0mkey\u001b[0m\u001b[0;34m]\u001b[0m\u001b[0;34m\u001b[0m\u001b[0;34m\u001b[0m\u001b[0m\n\u001b[1;32m     95\u001b[0m         \u001b[0;32mexcept\u001b[0m \u001b[0mKeyError\u001b[0m\u001b[0;34m:\u001b[0m\u001b[0;34m\u001b[0m\u001b[0;34m\u001b[0m\u001b[0m\n\u001b[0;32m---> 96\u001b[0;31m             \u001b[0;32mraise\u001b[0m \u001b[0mAttributeError\u001b[0m\u001b[0;34m(\u001b[0m\u001b[0mkey\u001b[0m\u001b[0;34m)\u001b[0m\u001b[0;34m\u001b[0m\u001b[0;34m\u001b[0m\u001b[0m\n\u001b[0m\u001b[1;32m     97\u001b[0m \u001b[0;34m\u001b[0m\u001b[0m\n\u001b[1;32m     98\u001b[0m     \u001b[0;32mdef\u001b[0m \u001b[0m__setstate__\u001b[0m\u001b[0;34m(\u001b[0m\u001b[0mself\u001b[0m\u001b[0;34m,\u001b[0m \u001b[0mstate\u001b[0m\u001b[0;34m)\u001b[0m\u001b[0;34m:\u001b[0m\u001b[0;34m\u001b[0m\u001b[0;34m\u001b[0m\u001b[0m\n",
            "\u001b[0;31mAttributeError\u001b[0m: info"
          ]
        }
      ],
      "execution_count": 9
    },
    {
      "cell_type": "code",
      "source": "",
      "metadata": {
        "tags": [],
        "cell_id": "00060-08b0fef5-d10d-453c-aa51-1575fdcd1f06",
        "deepnote_cell_type": "code"
      },
      "outputs": [],
      "execution_count": null
    },
    {
      "cell_type": "markdown",
      "source": "<a style='text-decoration:none;line-height:16px;display:flex;color:#5B5B62;padding:10px;justify-content:end;' href='https://deepnote.com?utm_source=created-in-deepnote-cell&projectId=0373fbce-8b1e-4b80-986c-32bb230c4719' target=\"_blank\">\n<img style='display:inline;max-height:16px;margin:0px;margin-right:7.5px;' src='data:image/svg+xml;base64,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' > </img>\nCreated in <span style='font-weight:600;margin-left:4px;'>Deepnote</span></a>",
      "metadata": {
        "tags": [],
        "created_in_deepnote_cell": true,
        "deepnote_cell_type": "markdown"
      }
    }
  ],
  "nbformat": 4,
  "nbformat_minor": 2,
  "metadata": {
    "orig_nbformat": 2,
    "deepnote_notebook_id": "702646d9-3feb-4a0c-8743-3ec5f9297ad0",
    "deepnote": {},
    "deepnote_execution_queue": []
  }
}