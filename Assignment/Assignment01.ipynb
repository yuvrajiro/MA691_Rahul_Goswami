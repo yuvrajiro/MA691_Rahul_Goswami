{
  "nbformat": 4,
  "nbformat_minor": 0,
  "metadata": {
    "colab": {
      "name": "Assignment01.ipynb",
      "provenance": [],
      "collapsed_sections": [],
      "toc_visible": true,
      "include_colab_link": true
    },
    "deepnote_execution_queue": [],
    "deepnote_notebook_id": "d8465977-7250-4481-9857-ab5ecf320335",
    "kernelspec": {
      "display_name": "Python 3",
      "name": "python3"
    }
  },
  "cells": [
    {
      "cell_type": "markdown",
      "metadata": {
        "id": "view-in-github",
        "colab_type": "text"
      },
      "source": [
        "<a href=\"https://colab.research.google.com/github/yuvrajiro/MA691_Rahul_Goswami/blob/main/Assignment/Assignment01.ipynb\" target=\"_parent\"><img src=\"https://colab.research.google.com/assets/colab-badge.svg\" alt=\"Open In Colab\"/></a>"
      ]
    },
    {
      "cell_type": "markdown",
      "metadata": {
        "id": "XIRuq_XCSV5S"
      },
      "source": [
        "# Assignment\r\n",
        "\r\n",
        "**Name : Rahul Goswami  \r\n",
        "Course : MA691 Advanced Statistical Algorithm  \r\n",
        "Roll No. : 206123106**\r\n",
        "\r\n",
        "\r\n",
        "\r\n",
        "---\r\n",
        "\r\n",
        "### *Data*\r\n",
        "\r\n",
        "Data is taken for this project from [UCI Machine Learning Repository](https://archive.ics.uci.edu/ml/index.php) titled [BitcoinHeistRansomwareAddressDataset Data Set](https://archive.ics.uci.edu/ml/datasets/BitcoinHeistRansomwareAddressDataset)  \r\n",
        "\r\n",
        "**Attribute Information:**\r\n",
        "\r\n",
        "Features  \r\n",
        "address: String. Bitcoin address.  \r\n",
        "year: Integer. Year.  \r\n",
        "day: Integer. Day of the year. 1 is the first day, 365 is the last day.  \r\n",
        "length: Integer.  \r\n",
        "weight: Float.  \r\n",
        "count: Integer.  \r\n",
        "looped: Integer.  \r\n",
        "neighbors: Integer.  \r\n",
        "income: Integer. Satoshi amount (1 bitcoin = 100 million satoshis).  \r\n",
        "label: Category String. Name of the ransomware family (e.g., Cryptxxx, cryptolocker etc) or white (i.e., not known to be ransomware).  \r\n",
        "\r\n",
        "\r\n",
        "\r\n",
        "## Aim\r\n",
        "\r\n",
        "Our Aim here is to classify data in Non-Ransomware that is labeled by *white* and Ransomware , we are going to assume ransomware as positive and non ransomware is negative \r\n",
        "\r\n"
      ]
    },
    {
      "cell_type": "markdown",
      "metadata": {
        "id": "KnwEDT7WW2_j"
      },
      "source": [
        "### Importing Packages"
      ]
    },
    {
      "cell_type": "code",
      "metadata": {
        "id": "AFBBtLtUV5eJ"
      },
      "source": [
        "import pandas\n",
        "import tensorflow\n",
        "import seaborn\n",
        "import numpy\n",
        "import sklearn\n",
        "import os\n",
        "import tempfile\n",
        "import matplotlib"
      ],
      "execution_count": null,
      "outputs": []
    },
    {
      "cell_type": "markdown",
      "metadata": {
        "id": "uUIS9KjEV5eL"
      },
      "source": [
        "### Importing Data"
      ]
    },
    {
      "cell_type": "code",
      "metadata": {
        "id": "JSgfKVFYV5eL"
      },
      "source": [
        "data = pandas.read_csv(\"BitcoinHeistData.csv\")"
      ],
      "execution_count": null,
      "outputs": []
    },
    {
      "cell_type": "markdown",
      "metadata": {
        "id": "zBls51cxV5eL"
      },
      "source": [
        "### Exploration\n"
      ]
    },
    {
      "cell_type": "code",
      "metadata": {
        "colab": {
          "base_uri": "https://localhost:8080/"
        },
        "id": "MzY6O6IRV5eM",
        "outputId": "2a953dc8-83df-40a2-d32f-cb47f0bf1f54"
      },
      "source": [
        "data.shape"
      ],
      "execution_count": null,
      "outputs": [
        {
          "output_type": "execute_result",
          "data": {
            "text/plain": [
              "(2916697, 10)"
            ]
          },
          "metadata": {
            "tags": []
          },
          "execution_count": 186
        }
      ]
    },
    {
      "cell_type": "code",
      "metadata": {
        "colab": {
          "base_uri": "https://localhost:8080/",
          "height": 297
        },
        "id": "9oLa3nh8V5eN",
        "outputId": "36d421ad-fdb1-4cab-e5b3-ef75c58ad618"
      },
      "source": [
        "data.describe()"
      ],
      "execution_count": null,
      "outputs": [
        {
          "output_type": "execute_result",
          "data": {
            "text/html": [
              "<div>\n",
              "<style scoped>\n",
              "    .dataframe tbody tr th:only-of-type {\n",
              "        vertical-align: middle;\n",
              "    }\n",
              "\n",
              "    .dataframe tbody tr th {\n",
              "        vertical-align: top;\n",
              "    }\n",
              "\n",
              "    .dataframe thead th {\n",
              "        text-align: right;\n",
              "    }\n",
              "</style>\n",
              "<table border=\"1\" class=\"dataframe\">\n",
              "  <thead>\n",
              "    <tr style=\"text-align: right;\">\n",
              "      <th></th>\n",
              "      <th>year</th>\n",
              "      <th>day</th>\n",
              "      <th>length</th>\n",
              "      <th>weight</th>\n",
              "      <th>count</th>\n",
              "      <th>looped</th>\n",
              "      <th>neighbors</th>\n",
              "      <th>income</th>\n",
              "    </tr>\n",
              "  </thead>\n",
              "  <tbody>\n",
              "    <tr>\n",
              "      <th>count</th>\n",
              "      <td>2.916697e+06</td>\n",
              "      <td>2.916697e+06</td>\n",
              "      <td>2.916697e+06</td>\n",
              "      <td>2.916697e+06</td>\n",
              "      <td>2.916697e+06</td>\n",
              "      <td>2.916697e+06</td>\n",
              "      <td>2.916697e+06</td>\n",
              "      <td>2.916697e+06</td>\n",
              "    </tr>\n",
              "    <tr>\n",
              "      <th>mean</th>\n",
              "      <td>2.014475e+03</td>\n",
              "      <td>1.814572e+02</td>\n",
              "      <td>4.500859e+01</td>\n",
              "      <td>5.455192e-01</td>\n",
              "      <td>7.216446e+02</td>\n",
              "      <td>2.385067e+02</td>\n",
              "      <td>2.206516e+00</td>\n",
              "      <td>4.464889e+09</td>\n",
              "    </tr>\n",
              "    <tr>\n",
              "      <th>std</th>\n",
              "      <td>2.257398e+00</td>\n",
              "      <td>1.040118e+02</td>\n",
              "      <td>5.898236e+01</td>\n",
              "      <td>3.674255e+00</td>\n",
              "      <td>1.689676e+03</td>\n",
              "      <td>9.663217e+02</td>\n",
              "      <td>1.791877e+01</td>\n",
              "      <td>1.626860e+11</td>\n",
              "    </tr>\n",
              "    <tr>\n",
              "      <th>min</th>\n",
              "      <td>2.011000e+03</td>\n",
              "      <td>1.000000e+00</td>\n",
              "      <td>0.000000e+00</td>\n",
              "      <td>3.606469e-94</td>\n",
              "      <td>1.000000e+00</td>\n",
              "      <td>0.000000e+00</td>\n",
              "      <td>1.000000e+00</td>\n",
              "      <td>3.000000e+07</td>\n",
              "    </tr>\n",
              "    <tr>\n",
              "      <th>25%</th>\n",
              "      <td>2.013000e+03</td>\n",
              "      <td>9.200000e+01</td>\n",
              "      <td>2.000000e+00</td>\n",
              "      <td>2.148438e-02</td>\n",
              "      <td>1.000000e+00</td>\n",
              "      <td>0.000000e+00</td>\n",
              "      <td>1.000000e+00</td>\n",
              "      <td>7.428559e+07</td>\n",
              "    </tr>\n",
              "    <tr>\n",
              "      <th>50%</th>\n",
              "      <td>2.014000e+03</td>\n",
              "      <td>1.810000e+02</td>\n",
              "      <td>8.000000e+00</td>\n",
              "      <td>2.500000e-01</td>\n",
              "      <td>1.000000e+00</td>\n",
              "      <td>0.000000e+00</td>\n",
              "      <td>2.000000e+00</td>\n",
              "      <td>1.999985e+08</td>\n",
              "    </tr>\n",
              "    <tr>\n",
              "      <th>75%</th>\n",
              "      <td>2.016000e+03</td>\n",
              "      <td>2.710000e+02</td>\n",
              "      <td>1.080000e+02</td>\n",
              "      <td>8.819482e-01</td>\n",
              "      <td>5.600000e+01</td>\n",
              "      <td>0.000000e+00</td>\n",
              "      <td>2.000000e+00</td>\n",
              "      <td>9.940000e+08</td>\n",
              "    </tr>\n",
              "    <tr>\n",
              "      <th>max</th>\n",
              "      <td>2.018000e+03</td>\n",
              "      <td>3.650000e+02</td>\n",
              "      <td>1.440000e+02</td>\n",
              "      <td>1.943749e+03</td>\n",
              "      <td>1.449700e+04</td>\n",
              "      <td>1.449600e+04</td>\n",
              "      <td>1.292000e+04</td>\n",
              "      <td>4.996440e+13</td>\n",
              "    </tr>\n",
              "  </tbody>\n",
              "</table>\n",
              "</div>"
            ],
            "text/plain": [
              "               year           day  ...     neighbors        income\n",
              "count  2.916697e+06  2.916697e+06  ...  2.916697e+06  2.916697e+06\n",
              "mean   2.014475e+03  1.814572e+02  ...  2.206516e+00  4.464889e+09\n",
              "std    2.257398e+00  1.040118e+02  ...  1.791877e+01  1.626860e+11\n",
              "min    2.011000e+03  1.000000e+00  ...  1.000000e+00  3.000000e+07\n",
              "25%    2.013000e+03  9.200000e+01  ...  1.000000e+00  7.428559e+07\n",
              "50%    2.014000e+03  1.810000e+02  ...  2.000000e+00  1.999985e+08\n",
              "75%    2.016000e+03  2.710000e+02  ...  2.000000e+00  9.940000e+08\n",
              "max    2.018000e+03  3.650000e+02  ...  1.292000e+04  4.996440e+13\n",
              "\n",
              "[8 rows x 8 columns]"
            ]
          },
          "metadata": {
            "tags": []
          },
          "execution_count": 187
        }
      ]
    },
    {
      "cell_type": "code",
      "metadata": {
        "colab": {
          "base_uri": "https://localhost:8080/"
        },
        "id": "oWpvLaq0V5eO",
        "outputId": "58c7b76f-aed2-4a50-9cab-65eb3d2912a4"
      },
      "source": [
        "data.dtypes"
      ],
      "execution_count": null,
      "outputs": [
        {
          "output_type": "execute_result",
          "data": {
            "text/plain": [
              "address       object\n",
              "year           int64\n",
              "day            int64\n",
              "length         int64\n",
              "weight       float64\n",
              "count          int64\n",
              "looped         int64\n",
              "neighbors      int64\n",
              "income       float64\n",
              "label         object\n",
              "dtype: object"
            ]
          },
          "metadata": {
            "tags": []
          },
          "execution_count": 188
        }
      ]
    },
    {
      "cell_type": "code",
      "metadata": {
        "colab": {
          "base_uri": "https://localhost:8080/"
        },
        "id": "31QG5MOGkXn3",
        "outputId": "71d032c4-dba3-4433-f6ad-8a6192174c13"
      },
      "source": [
        "data.nunique(axis=0)"
      ],
      "execution_count": null,
      "outputs": [
        {
          "output_type": "execute_result",
          "data": {
            "text/plain": [
              "address      2631095\n",
              "year               8\n",
              "day              365\n",
              "length            73\n",
              "weight        785669\n",
              "count          11572\n",
              "looped         10168\n",
              "neighbors        814\n",
              "income       1866365\n",
              "label             29\n",
              "dtype: int64"
            ]
          },
          "metadata": {
            "tags": []
          },
          "execution_count": 189
        }
      ]
    },
    {
      "cell_type": "markdown",
      "metadata": {
        "id": "yEy9tIoyZuXE"
      },
      "source": [
        "We Can See There are 29 , Here we have to do super labelling in Ransomware and non- Ransomware"
      ]
    },
    {
      "cell_type": "code",
      "metadata": {
        "id": "69s-dDOXsODp"
      },
      "source": [
        "data[\"label\"] = data[\"label\"] != \"white\"                  # Changes label to True or 1 if the labelled as Ransomware"
      ],
      "execution_count": null,
      "outputs": []
    },
    {
      "cell_type": "markdown",
      "metadata": {
        "id": "D7DRFDsVV5eO"
      },
      "source": [
        "### Visualization and Analysis"
      ]
    },
    {
      "cell_type": "code",
      "metadata": {
        "colab": {
          "base_uri": "https://localhost:8080/",
          "height": 420
        },
        "id": "fsagH6qoV5eP",
        "outputId": "4263d612-c8aa-453e-b9eb-3d8e3bb84180"
      },
      "source": [
        "seaborn.displot(data, x=\"label\")\n"
      ],
      "execution_count": null,
      "outputs": [
        {
          "output_type": "stream",
          "text": [
            "<string>:6: RuntimeWarning: Converting input from bool to <class 'numpy.uint8'> for compatibility.\n",
            "<string>:6: RuntimeWarning: Converting input from bool to <class 'numpy.uint8'> for compatibility.\n"
          ],
          "name": "stderr"
        },
        {
          "output_type": "execute_result",
          "data": {
            "text/plain": [
              "<seaborn.axisgrid.FacetGrid at 0x7f9631b4df98>"
            ]
          },
          "metadata": {
            "tags": []
          },
          "execution_count": 192
        },
        {
          "output_type": "display_data",
          "data": {
            "image/png": "[encoded data removed]",
            "text/plain": [
              "<Figure size 360x360 with 1 Axes>"
            ]
          },
          "metadata": {
            "tags": [],
            "needs_background": "light"
          }
        }
      ]
    },
    {
      "cell_type": "markdown",
      "metadata": {
        "id": "WM1Kb3JpEOTY"
      },
      "source": [
        "We Can Clearly See We have a Imbalanced Data There are more non Ransomware than Ransomware thats why we have to intialize or mode so that it converges fast , One of the idea for initalization is to only initialize the output bias by log of positive/negative \r\n",
        "\r\n",
        "$$ output \\ bias = log(\\frac{pos}{negative}) $$"
      ]
    },
    {
      "cell_type": "code",
      "metadata": {
        "colab": {
          "base_uri": "https://localhost:8080/"
        },
        "id": "OUfpLIODD9fH",
        "outputId": "8cb01824-9e90-43ee-8e23-3802e2560adb"
      },
      "source": [
        "pos = sum(data[\"label\"])\r\n",
        "neg = sum(data[\"label\"]==0)\r\n",
        "print(pos , neg)"
      ],
      "execution_count": null,
      "outputs": [
        {
          "output_type": "stream",
          "text": [
            "41413 2875284\n"
          ],
          "name": "stdout"
        }
      ]
    },
    {
      "cell_type": "markdown",
      "metadata": {
        "id": "nEhwbM_c_uzg"
      },
      "source": [
        "**Let us take a look Densities of the Features of our Data**"
      ]
    },
    {
      "cell_type": "code",
      "metadata": {
        "colab": {
          "base_uri": "https://localhost:8080/",
          "height": 2481
        },
        "id": "mU9zpF1TD1__",
        "outputId": "9091136a-4cc3-4d67-9ce8-809755287e60"
      },
      "source": [
        "for feature in list(data.columns)[1:10]:\r\n",
        "  seaborn.displot(data, x=feature, kind=\"kde\")\r\n"
      ],
      "execution_count": null,
      "outputs": [
        {
          "output_type": "display_data",
          "data": {
            "image/png": "[encoded data removed]",
            "text/plain": [
              "<Figure size 360x360 with 1 Axes>"
            ]
          },
          "metadata": {
            "tags": [],
            "needs_background": "light"
          }
        },
        {
          "output_type": "display_data",
          "data": {
            "image/png": "[encoded data removed]",
            "text/plain": [
              "<Figure size 360x360 with 1 Axes>"
            ]
          },
          "metadata": {
            "tags": [],
            "needs_background": "light"
          }
        },
        {
          "output_type": "display_data",
          "data": {
            "image/png": "[encoded data removed]",
            "text/plain": [
              "<Figure size 360x360 with 1 Axes>"
            ]
          },
          "metadata": {
            "tags": [],
            "needs_background": "light"
          }
        },
        {
          "output_type": "display_data",
          "data": {
            "image/png": "[encoded data removed]",
            "text/plain": [
              "<Figure size 360x360 with 1 Axes>"
            ]
          },
          "metadata": {
            "tags": [],
            "needs_background": "light"
          }
        },
        {
          "output_type": "display_data",
          "data": {
            "image/png": "[encoded data removed]",
            "text/plain": [
              "<Figure size 360x360 with 1 Axes>"
            ]
          },
          "metadata": {
            "tags": [],
            "needs_background": "light"
          }
        },
        {
          "output_type": "display_data",
          "data": {
            "image/png": "[encoded data removed]",
            "text/plain": [
              "<Figure size 360x360 with 1 Axes>"
            ]
          },
          "metadata": {
            "tags": [],
            "needs_background": "light"
          }
        },
        {
          "output_type": "display_data",
          "data": {
            "image/png": "[encoded data removed]",
            "text/plain": [
              "<Figure size 360x360 with 1 Axes>"
            ]
          },
          "metadata": {
            "tags": [],
            "needs_background": "light"
          }
        }
      ]
    },
    {
      "cell_type": "markdown",
      "metadata": {
        "id": "72fCQnQxMfY7"
      },
      "source": [
        "**Since Most of our features are Right Skewed so let us Take Log For those values so that our dataset tends to normalization**"
      ]
    },
    {
      "cell_type": "code",
      "metadata": {
        "colab": {
          "base_uri": "https://localhost:8080/",
          "height": 1794
        },
        "id": "LOGx8FdsEgri",
        "outputId": "438fccbe-1002-4b13-f548-6e94c89653b6"
      },
      "source": [
        "data[\"count\"] = numpy.log(data[\"count\"]+0.01)\r\n",
        "data[\"looped\"] = numpy.log(data[\"weight\"]+0.01)\r\n",
        "data[\"neighbors\"] = numpy.log(data[\"neighbors\"]+0.01)\r\n",
        "data[\"weight\"] = numpy.log(data[\"weight\"]+0.01)\r\n",
        "data[\"income\"] = numpy.log(data[\"income\"]+0.01)\r\n",
        "\r\n",
        "seaborn.displot(data, x=\"count\", kind=\"kde\")\r\n",
        "seaborn.displot(data, x=\"looped\", kind=\"kde\")\r\n",
        "seaborn.displot(data, x=\"neighbors\", kind=\"kde\")\r\n",
        "seaborn.displot(data, x=\"weight\", kind=\"kde\")\r\n",
        "seaborn.displot(data, x=\"income\", kind=\"kde\")"
      ],
      "execution_count": null,
      "outputs": [
        {
          "output_type": "execute_result",
          "data": {
            "text/plain": [
              "<seaborn.axisgrid.FacetGrid at 0x7f95f3844eb8>"
            ]
          },
          "metadata": {
            "tags": []
          },
          "execution_count": 218
        },
        {
          "output_type": "display_data",
          "data": {
            "image/png": "[encoded data removed]",
            "text/plain": [
              "<Figure size 360x360 with 1 Axes>"
            ]
          },
          "metadata": {
            "tags": [],
            "needs_background": "light"
          }
        },
        {
          "output_type": "display_data",
          "data": {
            "image/png": "[encoded data removed]",
            "text/plain": [
              "<Figure size 360x360 with 1 Axes>"
            ]
          },
          "metadata": {
            "tags": [],
            "needs_background": "light"
          }
        },
        {
          "output_type": "display_data",
          "data": {
            "image/png": "[encoded data removed]",
            "text/plain": [
              "<Figure size 360x360 with 1 Axes>"
            ]
          },
          "metadata": {
            "tags": [],
            "needs_background": "light"
          }
        },
        {
          "output_type": "display_data",
          "data": {
            "image/png": "[encoded data removed]",
            "text/plain": [
              "<Figure size 360x360 with 1 Axes>"
            ]
          },
          "metadata": {
            "tags": [],
            "needs_background": "light"
          }
        },
        {
          "output_type": "display_data",
          "data": {
            "image/png": "[encoded data removed]",
            "text/plain": [
              "<Figure size 360x360 with 1 Axes>"
            ]
          },
          "metadata": {
            "tags": [],
            "needs_background": "light"
          }
        }
      ]
    },
    {
      "cell_type": "markdown",
      "metadata": {
        "id": "R4TNSx6mNVgd"
      },
      "source": [
        "*Since We Can see there is an uniformity in case of Year  plus we personally belief that the Address and yeardoesnot contribute to the learning whether a heist is a ransomware or not*\r\n",
        "\r\n",
        "**Why Not Remove Days ?**\r\n",
        "\r\n",
        "We can see from the densities of days that on the last days of the year attacks are less probable than other days so I think it contributes to the Learning \r\n",
        "\r\n"
      ]
    },
    {
      "cell_type": "code",
      "metadata": {
        "id": "DxA0mO6SFtHb"
      },
      "source": [
        "data.pop(\"year\")\r\n",
        "data.pop(\"address\")"
      ],
      "execution_count": null,
      "outputs": []
    },
    {
      "cell_type": "markdown",
      "metadata": {
        "id": "0N2yp0poOKWo"
      },
      "source": [
        "## Preparing Dataset"
      ]
    },
    {
      "cell_type": "markdown",
      "metadata": {
        "id": "qJg7By0YOXYD"
      },
      "source": [
        "Using Sklearn Module for train test split , randomly taking 80% train and 20% as test data , and taking 20% of the train data as a validation set , however we can do here Cross Validation but that would not be necessary since data is big "
      ]
    },
    {
      "cell_type": "code",
      "metadata": {
        "id": "irznrar7L0Qz"
      },
      "source": [
        "train_set, test_set = sklearn.model_selection.train_test_split(data, test_size=0.2)\r\n",
        "train_set, val_set = sklearn.model_selection.train_test_split(train_set, test_size=0.2)"
      ],
      "execution_count": null,
      "outputs": []
    },
    {
      "cell_type": "markdown",
      "metadata": {
        "id": "YF26hho8QffU"
      },
      "source": [
        "Converting DataFrames into Numpy array for easy operations\r\n"
      ]
    },
    {
      "cell_type": "code",
      "metadata": {
        "id": "Ky8ElCCgQtmT"
      },
      "source": [
        "train_labels = numpy.array(train_set.pop('label'))\r\n",
        "val_labels = numpy.array(val_set.pop('label'))\r\n",
        "test_labels = numpy.array(test_set.pop('label'))\r\n",
        "\r\n",
        "train_features = numpy.array(train_set)\r\n",
        "val_features = numpy.array(val_set)\r\n",
        "test_features = numpy.array(test_set)"
      ],
      "execution_count": null,
      "outputs": []
    },
    {
      "cell_type": "markdown",
      "metadata": {
        "id": "rZwcQ2NcRutL"
      },
      "source": [
        "### Scaling and Centering"
      ]
    },
    {
      "cell_type": "code",
      "metadata": {
        "id": "Es1wPCWkRE9i"
      },
      "source": [
        "scaler = sklearn.preprocessing.StandardScaler()\r\n",
        "train_features = scaler.fit_transform(train_features)\r\n",
        "\r\n",
        "val_features = scaler.transform(val_features)\r\n",
        "test_features = scaler.transform(test_features)\r\n",
        "\r\n",
        "train_features = numpy.clip(train_features, -5, 5)\r\n",
        "val_features = numpy.clip(val_features, -5, 5)\r\n",
        "test_features = numpy.clip(test_features, -5, 5)\r\n",
        "\r\n"
      ],
      "execution_count": null,
      "outputs": []
    },
    {
      "cell_type": "markdown",
      "metadata": {
        "id": "dCJEeWJkX6rI"
      },
      "source": [
        "## Tensorflow\r\n",
        "\r\n",
        "Here we are going to make a Tensorflow Model with 2 Hidden Layer and one Droput layer with p = 0.5 , we also gonna use metrics from the keras to evaluate the model while training, we are going to provide initial bias option as an argument to `make_model` function  "
      ]
    },
    {
      "cell_type": "code",
      "metadata": {
        "id": "MVfgHsnySgP2"
      },
      "source": [
        "METRICS = [\r\n",
        "      tensorflow.keras.metrics.TruePositives(name='tp'),\r\n",
        "      tensorflow.keras.metrics.FalsePositives(name='fp'),\r\n",
        "      tensorflow.keras.metrics.TrueNegatives(name='tn'),\r\n",
        "      tensorflow.keras.metrics.FalseNegatives(name='fn'), \r\n",
        "      tensorflow.keras.metrics.BinaryAccuracy(name='accuracy'),\r\n",
        "      tensorflow.keras.metrics.Precision(name='precision'),\r\n",
        "      tensorflow.keras.metrics.Recall(name='recall'),\r\n",
        "      tensorflow.keras.metrics.AUC(name='auc'),\r\n",
        "]\r\n",
        "\r\n",
        "def make_model(metrics=METRICS, output_bias=None, learning_rate = 1e-3):\r\n",
        "  if output_bias is not None:\r\n",
        "    output_bias = tensorflow.keras.initializers.Constant(output_bias)                                   # Initialize the Output bias randomly if not given\r\n",
        "  model = tensorflow.keras.Sequential([\r\n",
        "      tensorflow.keras.layers.Dense(16, activation='relu',input_shape=(train_features.shape[-1],)),     # First Layer with 16 Nodes and Sigmoid as an activation Function\r\n",
        "      tensorflow.keras.layers.Dropout(0.5),                                                             # Droput that will Drop Randomly 50% of the nodes Basically used for Regilarization \r\n",
        "      tensorflow.keras.layers.Dense(1, activation='sigmoid',bias_initializer=output_bias),              # Output Layer\r\n",
        "  ])\r\n",
        "\r\n",
        "  model.compile(\r\n",
        "      optimizer=tensorflow.keras.optimizers.Adam(lr= learning_rate),                                              # Using Adam as an Optimizer and learning rate 0.001\r\n",
        "      loss=tensorflow.keras.losses.BinaryCrossentropy(),                                                # Cross Entropy Loss\r\n",
        "      metrics=metrics)\r\n",
        "\r\n",
        "  return model"
      ],
      "execution_count": null,
      "outputs": []
    },
    {
      "cell_type": "markdown",
      "metadata": {
        "id": "cSm525_ykZOB"
      },
      "source": [
        "Here We are going to use 100 Epochs and Batch Size of 22000 Since we want every batch have decent numbers of Ransomware Labels that is 1, and we are also using early stopping criteria"
      ]
    },
    {
      "cell_type": "code",
      "metadata": {
        "id": "YipAdkBcXbEu"
      },
      "source": [
        "EPOCHS = 100                              # Setting The number of Epochs\r\n",
        "BATCH_SIZE = 22000                        # Setting Batch Size\r\n",
        "\r\n",
        "early_stopping = tensorflow.keras.callbacks.EarlyStopping(\r\n",
        "    monitor='precision', \r\n",
        "    verbose=1,\r\n",
        "    patience=10,                          # Stop when Precison doesnot change fo upto 10 Epochs\r\n",
        "    mode='max',\r\n",
        "    restore_best_weights=True)            # To fetch Best Weights From the Epochs"
      ],
      "execution_count": null,
      "outputs": []
    },
    {
      "cell_type": "code",
      "metadata": {
        "colab": {
          "base_uri": "https://localhost:8080/"
        },
        "id": "aS0elAI3YUYh",
        "outputId": "b5ff7971-be59-4a0e-bb18-a4844a0b9a67"
      },
      "source": [
        "model = make_model()\r\n",
        "model.summary()"
      ],
      "execution_count": null,
      "outputs": [
        {
          "output_type": "stream",
          "text": [
            "Model: \"sequential_16\"\n",
            "_________________________________________________________________\n",
            "Layer (type)                 Output Shape              Param #   \n",
            "=================================================================\n",
            "dense_38 (Dense)             (None, 16)                128       \n",
            "_________________________________________________________________\n",
            "dropout_17 (Dropout)         (None, 16)                0         \n",
            "_________________________________________________________________\n",
            "dense_39 (Dense)             (None, 1)                 17        \n",
            "=================================================================\n",
            "Total params: 145\n",
            "Trainable params: 145\n",
            "Non-trainable params: 0\n",
            "_________________________________________________________________\n"
          ],
          "name": "stdout"
        }
      ]
    },
    {
      "cell_type": "markdown",
      "metadata": {
        "id": "j46zfkMnl_w4"
      },
      "source": [
        "Calculating The  Initial Bias"
      ]
    },
    {
      "cell_type": "code",
      "metadata": {
        "colab": {
          "base_uri": "https://localhost:8080/"
        },
        "id": "98cgku5cZPf1",
        "outputId": "a4942c92-f030-4157-fe06-63aac94b8841"
      },
      "source": [
        "initial_bias = numpy.log([pos/neg])\r\n",
        "initial_bias"
      ],
      "execution_count": null,
      "outputs": [
        {
          "output_type": "execute_result",
          "data": {
            "text/plain": [
              "array([-4.24031189])"
            ]
          },
          "metadata": {
            "tags": []
          },
          "execution_count": 203
        }
      ]
    },
    {
      "cell_type": "markdown",
      "metadata": {
        "id": "ojfe1gX6mOSV"
      },
      "source": [
        "Storing Initial Weights  so that when we run more models we can compare them there is not any bias in comparing due to the initalizations of the weights"
      ]
    },
    {
      "cell_type": "code",
      "metadata": {
        "id": "VbSh2CvJHuF0"
      },
      "source": [
        "initial_weights = os.path.join(tempfile.mkdtemp(), 'initial_weights')\r\n",
        "model.save_weights(initial_weights)"
      ],
      "execution_count": null,
      "outputs": []
    },
    {
      "cell_type": "code",
      "metadata": {
        "colab": {
          "base_uri": "https://localhost:8080/"
        },
        "id": "C-S8EB4gH8HI",
        "outputId": "1dd6f9de-e0fd-47fe-ae14-9c733980b408"
      },
      "source": [
        "model = make_model(output_bias =  initial_bias)\r\n",
        "model.load_weights(initial_weights)\r\n",
        "baseline_history = model.fit(\r\n",
        "    train_features,\r\n",
        "    train_labels,\r\n",
        "    batch_size=BATCH_SIZE,\r\n",
        "    epochs=EPOCHS,\r\n",
        "    callbacks=[early_stopping],\r\n",
        "    validation_data=(val_features, val_labels))"
      ],
      "execution_count": null,
      "outputs": [
        {
          "output_type": "stream",
          "text": [
            "Epoch 1/100\n",
            "85/85 [==============================] - 8s 76ms/step - loss: 0.3060 - tp: 56.6744 - fp: 6811.9186 - tn: 936352.0233 - fn: 13446.4767 - accuracy: 0.9758 - precision: 0.0083 - recall: 0.0061 - auc: 0.4916 - val_loss: 0.1931 - val_tp: 0.0000e+00 - val_fp: 0.0000e+00 - val_tn: 460006.0000 - val_fn: 6666.0000 - val_accuracy: 0.9857 - val_precision: 0.0000e+00 - val_recall: 0.0000e+00 - val_auc: 0.5136\n",
            "Epoch 2/100\n",
            "85/85 [==============================] - 6s 65ms/step - loss: 0.1923 - tp: 0.6977 - fp: 191.1744 - tn: 942926.4186 - fn: 13548.8023 - accuracy: 0.9856 - precision: 0.0030 - recall: 4.4052e-05 - auc: 0.4919 - val_loss: 0.1351 - val_tp: 0.0000e+00 - val_fp: 0.0000e+00 - val_tn: 460006.0000 - val_fn: 6666.0000 - val_accuracy: 0.9857 - val_precision: 0.0000e+00 - val_recall: 0.0000e+00 - val_auc: 0.5127\n",
            "Epoch 3/100\n",
            "85/85 [==============================] - 6s 66ms/step - loss: 0.1454 - tp: 0.0000e+00 - fp: 60.6047 - tn: 943097.2442 - fn: 13509.2442 - accuracy: 0.9857 - precision: 0.0000e+00 - recall: 0.0000e+00 - auc: 0.4976 - val_loss: 0.1050 - val_tp: 0.0000e+00 - val_fp: 0.0000e+00 - val_tn: 460006.0000 - val_fn: 6666.0000 - val_accuracy: 0.9857 - val_precision: 0.0000e+00 - val_recall: 0.0000e+00 - val_auc: 0.5144\n",
            "Epoch 4/100\n",
            "85/85 [==============================] - 6s 66ms/step - loss: 0.1203 - tp: 0.0000e+00 - fp: 6.3837 - tn: 943298.8605 - fn: 13361.8488 - accuracy: 0.9861 - precision: 0.0000e+00 - recall: 0.0000e+00 - auc: 0.5000 - val_loss: 0.0891 - val_tp: 0.0000e+00 - val_fp: 0.0000e+00 - val_tn: 460006.0000 - val_fn: 6666.0000 - val_accuracy: 0.9857 - val_precision: 0.0000e+00 - val_recall: 0.0000e+00 - val_auc: 0.5189\n",
            "Epoch 5/100\n",
            "85/85 [==============================] - 6s 66ms/step - loss: 0.1080 - tp: 0.0000e+00 - fp: 1.3837 - tn: 943163.1628 - fn: 13502.5465 - accuracy: 0.9858 - precision: 0.0000e+00 - recall: 0.0000e+00 - auc: 0.4969 - val_loss: 0.0813 - val_tp: 0.0000e+00 - val_fp: 0.0000e+00 - val_tn: 460006.0000 - val_fn: 6666.0000 - val_accuracy: 0.9857 - val_precision: 0.0000e+00 - val_recall: 0.0000e+00 - val_auc: 0.5262\n",
            "Epoch 6/100\n",
            "85/85 [==============================] - 6s 66ms/step - loss: 0.1006 - tp: 0.0000e+00 - fp: 0.0000e+00 - tn: 943137.7674 - fn: 13529.3256 - accuracy: 0.9858 - precision: 0.0000e+00 - recall: 0.0000e+00 - auc: 0.5052 - val_loss: 0.0778 - val_tp: 0.0000e+00 - val_fp: 0.0000e+00 - val_tn: 460006.0000 - val_fn: 6666.0000 - val_accuracy: 0.9857 - val_precision: 0.0000e+00 - val_recall: 0.0000e+00 - val_auc: 0.5332\n",
            "Epoch 7/100\n",
            "85/85 [==============================] - 6s 66ms/step - loss: 0.0964 - tp: 0.0000e+00 - fp: 0.0000e+00 - tn: 943113.8140 - fn: 13553.2791 - accuracy: 0.9858 - precision: 0.0000e+00 - recall: 0.0000e+00 - auc: 0.5122 - val_loss: 0.0761 - val_tp: 0.0000e+00 - val_fp: 0.0000e+00 - val_tn: 460006.0000 - val_fn: 6666.0000 - val_accuracy: 0.9857 - val_precision: 0.0000e+00 - val_recall: 0.0000e+00 - val_auc: 0.5401\n",
            "Epoch 8/100\n",
            "85/85 [==============================] - 6s 67ms/step - loss: 0.0936 - tp: 0.0000e+00 - fp: 0.0000e+00 - tn: 943164.4419 - fn: 13502.6512 - accuracy: 0.9859 - precision: 0.0000e+00 - recall: 0.0000e+00 - auc: 0.5104 - val_loss: 0.0753 - val_tp: 0.0000e+00 - val_fp: 0.0000e+00 - val_tn: 460006.0000 - val_fn: 6666.0000 - val_accuracy: 0.9857 - val_precision: 0.0000e+00 - val_recall: 0.0000e+00 - val_auc: 0.5452\n",
            "Epoch 9/100\n",
            "85/85 [==============================] - 6s 67ms/step - loss: 0.0920 - tp: 0.0000e+00 - fp: 0.0000e+00 - tn: 943132.4884 - fn: 13534.6047 - accuracy: 0.9858 - precision: 0.0000e+00 - recall: 0.0000e+00 - auc: 0.5123 - val_loss: 0.0750 - val_tp: 0.0000e+00 - val_fp: 0.0000e+00 - val_tn: 460006.0000 - val_fn: 6666.0000 - val_accuracy: 0.9857 - val_precision: 0.0000e+00 - val_recall: 0.0000e+00 - val_auc: 0.5471\n",
            "Epoch 10/100\n",
            "85/85 [==============================] - 6s 67ms/step - loss: 0.0900 - tp: 0.0000e+00 - fp: 0.0000e+00 - tn: 943168.1279 - fn: 13498.9651 - accuracy: 0.9859 - precision: 0.0000e+00 - recall: 0.0000e+00 - auc: 0.5134 - val_loss: 0.0748 - val_tp: 0.0000e+00 - val_fp: 0.0000e+00 - val_tn: 460006.0000 - val_fn: 6666.0000 - val_accuracy: 0.9857 - val_precision: 0.0000e+00 - val_recall: 0.0000e+00 - val_auc: 0.5531\n",
            "Epoch 11/100\n",
            "85/85 [==============================] - 6s 67ms/step - loss: 0.0884 - tp: 0.0000e+00 - fp: 0.0000e+00 - tn: 943249.7674 - fn: 13417.3256 - accuracy: 0.9859 - precision: 0.0000e+00 - recall: 0.0000e+00 - auc: 0.5159 - val_loss: 0.0746 - val_tp: 0.0000e+00 - val_fp: 0.0000e+00 - val_tn: 460006.0000 - val_fn: 6666.0000 - val_accuracy: 0.9857 - val_precision: 0.0000e+00 - val_recall: 0.0000e+00 - val_auc: 0.5586\n",
            "Restoring model weights from the end of the best epoch.\n",
            "Epoch 00011: early stopping\n"
          ],
          "name": "stdout"
        }
      ]
    },
    {
      "cell_type": "code",
      "metadata": {
        "id": "LkbutpsXJzox"
      },
      "source": [
        "train_predictions_baseline = model.predict(train_features, batch_size=BATCH_SIZE)\r\n",
        "test_predictions_baseline = model.predict(test_features, batch_size=BATCH_SIZE)"
      ],
      "execution_count": null,
      "outputs": []
    },
    {
      "cell_type": "code",
      "metadata": {
        "id": "L1qVmG4AK00v"
      },
      "source": [
        "def plot_cm(labels, predictions, p=0.5):\r\n",
        "  cm = sklearn.metrics.confusion_matrix(labels, predictions > p)\r\n",
        "  matplotlib.pyplot.figure(figsize=(5,5))\r\n",
        "  seaborn.heatmap(cm, annot=True, fmt=\"d\")\r\n",
        "  matplotlib.pyplot.title('Confusion matrix @{:.2f}'.format(p))\r\n",
        "  matplotlib.pyplot.ylabel('Actual label')\r\n",
        "  matplotlib.pyplot.xlabel('Predicted label')\r\n"
      ],
      "execution_count": null,
      "outputs": []
    },
    {
      "cell_type": "code",
      "metadata": {
        "colab": {
          "base_uri": "https://localhost:8080/",
          "height": 520
        },
        "id": "AFsWT819K3LT",
        "outputId": "13929aa5-12aa-4003-e0d7-7c799fb34b8f"
      },
      "source": [
        "baseline_results = model.evaluate(test_features, test_labels,batch_size=BATCH_SIZE, verbose=0)\r\n",
        "for name, value in zip(model.metrics_names, baseline_results):\r\n",
        "  print(name, ': ', value)\r\n",
        "print()\r\n",
        "\r\n",
        "plot_cm(test_labels, test_predictions_baseline)"
      ],
      "execution_count": null,
      "outputs": [
        {
          "output_type": "stream",
          "text": [
            "loss :  0.1935615837574005\n",
            "tp :  0.0\n",
            "fp :  0.0\n",
            "tn :  574886.0\n",
            "fn :  8454.0\n",
            "accuracy :  0.985507607460022\n",
            "precision :  0.0\n",
            "recall :  0.0\n",
            "auc :  0.5043352246284485\n",
            "\n"
          ],
          "name": "stdout"
        },
        {
          "output_type": "display_data",
          "data": {
            "image/png": "[encoded data removed]",
            "text/plain": [
              "<Figure size 360x360 with 2 Axes>"
            ]
          },
          "metadata": {
            "tags": [],
            "needs_background": "light"
          }
        }
      ]
    },
    {
      "cell_type": "markdown",
      "metadata": {
        "id": "onIn_enwprjt"
      },
      "source": [
        "This result is not satisfactory since it classify each data as negative that is why we have 0 true positive and 0 False Positive , we have to implement **Class Weights**\r\n",
        "\r\n",
        "### Class Weights"
      ]
    },
    {
      "cell_type": "markdown",
      "metadata": {
        "id": "f3vFJEfHAP_S"
      },
      "source": [
        "In This Method We Pass Weights to the observations which are minority class with heavy weights whereas the data observations which are in majority class with less weights, we can pass these weight to neural network with keras"
      ]
    },
    {
      "cell_type": "code",
      "metadata": {
        "colab": {
          "base_uri": "https://localhost:8080/"
        },
        "id": "QHeTvAZbK-bo",
        "outputId": "5fad09c6-16c3-498f-b256-a35d1e1b671c"
      },
      "source": [
        "total = pos + neg\r\n",
        "weight_for_0 = (1 / neg)*(total)/2.0 \r\n",
        "weight_for_1 = (1 / pos)*(total)/2.0\r\n",
        "\r\n",
        "class_weight = {0: weight_for_0, 1: weight_for_1}\r\n",
        "\r\n",
        "print('Weight for class 0: {:.2f}'.format(weight_for_0))\r\n",
        "print('Weight for class 1: {:.2f}'.format(weight_for_1))"
      ],
      "execution_count": null,
      "outputs": [
        {
          "output_type": "stream",
          "text": [
            "Weight for class 0: 0.51\n",
            "Weight for class 1: 35.21\n"
          ],
          "name": "stdout"
        }
      ]
    },
    {
      "cell_type": "code",
      "metadata": {
        "colab": {
          "base_uri": "https://localhost:8080/"
        },
        "id": "QeKKSvAcL72l",
        "outputId": "4968da79-cc66-4815-93b8-9a8377034816"
      },
      "source": [
        "classweight_model = make_model(output_bias = initial_bias)\r\n",
        "classweight_model.load_weights(initial_weights)\r\n",
        "\r\n",
        "weighted_history = classweight_model.fit(\r\n",
        "    train_features,\r\n",
        "    train_labels,\r\n",
        "    batch_size=BATCH_SIZE,\r\n",
        "    epochs=EPOCHS,\r\n",
        "    callbacks=[early_stopping],\r\n",
        "    validation_data=(val_features, val_labels),\r\n",
        "    class_weight=class_weight) "
      ],
      "execution_count": null,
      "outputs": [
        {
          "output_type": "stream",
          "text": [
            "Epoch 1/100\n",
            "85/85 [==============================] - 8s 76ms/step - loss: 0.7377 - tp: 4856.4651 - fp: 316175.1163 - tn: 626964.4186 - fn: 8671.0930 - accuracy: 0.6916 - precision: 0.0143 - recall: 0.3177 - auc: 0.5135 - val_loss: 0.6346 - val_tp: 2046.0000 - val_fp: 98778.0000 - val_tn: 361228.0000 - val_fn: 4620.0000 - val_accuracy: 0.7784 - val_precision: 0.0203 - val_recall: 0.3069 - val_auc: 0.5959\n",
            "Epoch 2/100\n",
            "85/85 [==============================] - 6s 67ms/step - loss: 0.6844 - tp: 6147.5349 - fp: 349768.6279 - tn: 593404.5116 - fn: 7346.4186 - accuracy: 0.6348 - precision: 0.0172 - recall: 0.4436 - auc: 0.5661 - val_loss: 0.6571 - val_tp: 4198.0000 - val_fp: 204528.0000 - val_tn: 255478.0000 - val_fn: 2468.0000 - val_accuracy: 0.5564 - val_precision: 0.0201 - val_recall: 0.6298 - val_auc: 0.6327\n",
            "Epoch 3/100\n",
            "85/85 [==============================] - 6s 67ms/step - loss: 0.6785 - tp: 7222.2093 - fp: 395237.0000 - tn: 547915.6512 - fn: 6292.2326 - accuracy: 0.5797 - precision: 0.0179 - recall: 0.5328 - auc: 0.5878 - val_loss: 0.6639 - val_tp: 4850.0000 - val_fp: 234944.0000 - val_tn: 225062.0000 - val_fn: 1816.0000 - val_accuracy: 0.4927 - val_precision: 0.0202 - val_recall: 0.7276 - val_auc: 0.6549\n",
            "Epoch 4/100\n",
            "85/85 [==============================] - 6s 67ms/step - loss: 0.6698 - tp: 8237.0116 - fp: 435617.7558 - tn: 507607.2674 - fn: 5205.0581 - accuracy: 0.5365 - precision: 0.0184 - recall: 0.6117 - auc: 0.6061 - val_loss: 0.6735 - val_tp: 5149.0000 - val_fp: 250924.0000 - val_tn: 209082.0000 - val_fn: 1517.0000 - val_accuracy: 0.4591 - val_precision: 0.0201 - val_recall: 0.7724 - val_auc: 0.6659\n",
            "Epoch 5/100\n",
            "85/85 [==============================] - 6s 67ms/step - loss: 0.6642 - tp: 8760.4651 - fp: 456337.4070 - tn: 486899.7791 - fn: 4669.4419 - accuracy: 0.5168 - precision: 0.0188 - recall: 0.6553 - auc: 0.6189 - val_loss: 0.6757 - val_tp: 5194.0000 - val_fp: 248454.0000 - val_tn: 211552.0000 - val_fn: 1472.0000 - val_accuracy: 0.4645 - val_precision: 0.0205 - val_recall: 0.7792 - val_auc: 0.6730\n",
            "Epoch 6/100\n",
            "85/85 [==============================] - 6s 68ms/step - loss: 0.6691 - tp: 9263.1163 - fp: 472813.9767 - tn: 470256.0465 - fn: 4333.9535 - accuracy: 0.4985 - precision: 0.0192 - recall: 0.6840 - auc: 0.6204 - val_loss: 0.6177 - val_tp: 4029.0000 - val_fp: 165722.0000 - val_tn: 294284.0000 - val_fn: 2637.0000 - val_accuracy: 0.6392 - val_precision: 0.0237 - val_recall: 0.6044 - val_auc: 0.6757\n",
            "Epoch 7/100\n",
            "85/85 [==============================] - 6s 68ms/step - loss: 0.6660 - tp: 8988.2093 - fp: 453057.8140 - tn: 490097.4535 - fn: 4523.6163 - accuracy: 0.5238 - precision: 0.0195 - recall: 0.6614 - auc: 0.6273 - val_loss: 0.6475 - val_tp: 4941.0000 - val_fp: 221794.0000 - val_tn: 238212.0000 - val_fn: 1725.0000 - val_accuracy: 0.5210 - val_precision: 0.0218 - val_recall: 0.7412 - val_auc: 0.6807\n",
            "Epoch 8/100\n",
            "85/85 [==============================] - 6s 68ms/step - loss: 0.6602 - tp: 9090.4070 - fp: 459241.2674 - tn: 483933.7442 - fn: 4401.6744 - accuracy: 0.5150 - precision: 0.0193 - recall: 0.6721 - auc: 0.6304 - val_loss: 0.6427 - val_tp: 4999.0000 - val_fp: 226445.0000 - val_tn: 233561.0000 - val_fn: 1667.0000 - val_accuracy: 0.5112 - val_precision: 0.0216 - val_recall: 0.7499 - val_auc: 0.6785\n",
            "Epoch 9/100\n",
            "85/85 [==============================] - 6s 68ms/step - loss: 0.6564 - tp: 8850.8256 - fp: 438288.6977 - tn: 504929.6395 - fn: 4597.9302 - accuracy: 0.5449 - precision: 0.0197 - recall: 0.6488 - auc: 0.6356 - val_loss: 0.6041 - val_tp: 3959.0000 - val_fp: 157572.0000 - val_tn: 302434.0000 - val_fn: 2707.0000 - val_accuracy: 0.6565 - val_precision: 0.0245 - val_recall: 0.5939 - val_auc: 0.6814\n",
            "Epoch 10/100\n",
            "85/85 [==============================] - 6s 69ms/step - loss: 0.6586 - tp: 9022.1047 - fp: 443486.6512 - tn: 499728.3256 - fn: 4430.0116 - accuracy: 0.5367 - precision: 0.0200 - recall: 0.6649 - auc: 0.6373 - val_loss: 0.6530 - val_tp: 5191.0000 - val_fp: 241277.0000 - val_tn: 218729.0000 - val_fn: 1475.0000 - val_accuracy: 0.4798 - val_precision: 0.0211 - val_recall: 0.7787 - val_auc: 0.6802\n",
            "Epoch 11/100\n",
            "85/85 [==============================] - 6s 68ms/step - loss: 0.6602 - tp: 8872.0349 - fp: 433852.2093 - tn: 509281.6977 - fn: 4661.1512 - accuracy: 0.5446 - precision: 0.0201 - recall: 0.6518 - auc: 0.6377 - val_loss: 0.6445 - val_tp: 5172.0000 - val_fp: 238389.0000 - val_tn: 221617.0000 - val_fn: 1494.0000 - val_accuracy: 0.4860 - val_precision: 0.0212 - val_recall: 0.7759 - val_auc: 0.6798\n",
            "Epoch 12/100\n",
            "85/85 [==============================] - 6s 68ms/step - loss: 0.6551 - tp: 8527.5116 - fp: 420078.1163 - tn: 523181.4186 - fn: 4880.0465 - accuracy: 0.5592 - precision: 0.0198 - recall: 0.6314 - auc: 0.6353 - val_loss: 0.6764 - val_tp: 5453.0000 - val_fp: 265550.0000 - val_tn: 194456.0000 - val_fn: 1213.0000 - val_accuracy: 0.4284 - val_precision: 0.0201 - val_recall: 0.8180 - val_auc: 0.6709\n",
            "Epoch 13/100\n",
            "85/85 [==============================] - 6s 68ms/step - loss: 0.6576 - tp: 8850.2442 - fp: 432010.5349 - tn: 511185.3953 - fn: 4620.9186 - accuracy: 0.5376 - precision: 0.0200 - recall: 0.6611 - auc: 0.6376 - val_loss: 0.6377 - val_tp: 4564.0000 - val_fp: 199066.0000 - val_tn: 260940.0000 - val_fn: 2102.0000 - val_accuracy: 0.5689 - val_precision: 0.0224 - val_recall: 0.6847 - val_auc: 0.6811\n",
            "Epoch 14/100\n",
            "85/85 [==============================] - 6s 68ms/step - loss: 0.6552 - tp: 8727.0349 - fp: 425841.4070 - tn: 517371.1047 - fn: 4727.5465 - accuracy: 0.5494 - precision: 0.0202 - recall: 0.6521 - auc: 0.6397 - val_loss: 0.6650 - val_tp: 5445.0000 - val_fp: 253989.0000 - val_tn: 206017.0000 - val_fn: 1221.0000 - val_accuracy: 0.4531 - val_precision: 0.0210 - val_recall: 0.8168 - val_auc: 0.6851\n",
            "Epoch 15/100\n",
            "85/85 [==============================] - 6s 69ms/step - loss: 0.6517 - tp: 8697.5116 - fp: 423275.6279 - tn: 519983.5000 - fn: 4710.4535 - accuracy: 0.5511 - precision: 0.0200 - recall: 0.6500 - auc: 0.6411 - val_loss: 0.6639 - val_tp: 5413.0000 - val_fp: 254034.0000 - val_tn: 205972.0000 - val_fn: 1253.0000 - val_accuracy: 0.4530 - val_precision: 0.0209 - val_recall: 0.8120 - val_auc: 0.6836\n",
            "Epoch 16/100\n",
            "85/85 [==============================] - 6s 68ms/step - loss: 0.6552 - tp: 8828.6395 - fp: 424004.3488 - tn: 519170.5930 - fn: 4663.5116 - accuracy: 0.5531 - precision: 0.0204 - recall: 0.6532 - auc: 0.6428 - val_loss: 0.6096 - val_tp: 4061.0000 - val_fp: 163057.0000 - val_tn: 296949.0000 - val_fn: 2605.0000 - val_accuracy: 0.6450 - val_precision: 0.0243 - val_recall: 0.6092 - val_auc: 0.6898\n",
            "Epoch 17/100\n",
            "85/85 [==============================] - 6s 68ms/step - loss: 0.6591 - tp: 8692.6628 - fp: 415011.1395 - tn: 528105.2791 - fn: 4858.0116 - accuracy: 0.5631 - precision: 0.0206 - recall: 0.6381 - auc: 0.6427 - val_loss: 0.6316 - val_tp: 5031.0000 - val_fp: 231779.0000 - val_tn: 228227.0000 - val_fn: 1635.0000 - val_accuracy: 0.4998 - val_precision: 0.0212 - val_recall: 0.7547 - val_auc: 0.6705\n",
            "Epoch 18/100\n",
            "85/85 [==============================] - 6s 68ms/step - loss: 0.6562 - tp: 8831.9767 - fp: 423918.0233 - tn: 519300.9884 - fn: 4616.1047 - accuracy: 0.5496 - precision: 0.0204 - recall: 0.6577 - auc: 0.6398 - val_loss: 0.6632 - val_tp: 5498.0000 - val_fp: 256015.0000 - val_tn: 203991.0000 - val_fn: 1168.0000 - val_accuracy: 0.4489 - val_precision: 0.0210 - val_recall: 0.8248 - val_auc: 0.6863\n",
            "Epoch 19/100\n",
            "85/85 [==============================] - 6s 68ms/step - loss: 0.6495 - tp: 8645.0349 - fp: 415701.5581 - tn: 527572.1047 - fn: 4748.3953 - accuracy: 0.5647 - precision: 0.0202 - recall: 0.6408 - auc: 0.6453 - val_loss: 0.6494 - val_tp: 4999.0000 - val_fp: 223695.0000 - val_tn: 236311.0000 - val_fn: 1667.0000 - val_accuracy: 0.5171 - val_precision: 0.0219 - val_recall: 0.7499 - val_auc: 0.6900\n",
            "Epoch 20/100\n",
            "85/85 [==============================] - 6s 69ms/step - loss: 0.6525 - tp: 8809.3953 - fp: 421380.7791 - tn: 521829.9186 - fn: 4647.0000 - accuracy: 0.5508 - precision: 0.0205 - recall: 0.6618 - auc: 0.6487 - val_loss: 0.6619 - val_tp: 5470.0000 - val_fp: 250258.0000 - val_tn: 209748.0000 - val_fn: 1196.0000 - val_accuracy: 0.4612 - val_precision: 0.0214 - val_recall: 0.8206 - val_auc: 0.6820\n",
            "Epoch 21/100\n",
            "85/85 [==============================] - 6s 68ms/step - loss: 0.6480 - tp: 8766.8837 - fp: 416877.3721 - tn: 526386.1744 - fn: 4636.6628 - accuracy: 0.5581 - precision: 0.0204 - recall: 0.6559 - auc: 0.6481 - val_loss: 0.6486 - val_tp: 5042.0000 - val_fp: 218700.0000 - val_tn: 241306.0000 - val_fn: 1624.0000 - val_accuracy: 0.5279 - val_precision: 0.0225 - val_recall: 0.7564 - val_auc: 0.6918\n",
            "Epoch 22/100\n",
            "85/85 [==============================] - 6s 69ms/step - loss: 0.6550 - tp: 8713.7326 - fp: 414306.1047 - tn: 528856.4070 - fn: 4790.8488 - accuracy: 0.5635 - precision: 0.0207 - recall: 0.6452 - auc: 0.6459 - val_loss: 0.6525 - val_tp: 4861.0000 - val_fp: 216694.0000 - val_tn: 243312.0000 - val_fn: 1805.0000 - val_accuracy: 0.5318 - val_precision: 0.0219 - val_recall: 0.7292 - val_auc: 0.6831\n",
            "Epoch 23/100\n",
            "85/85 [==============================] - 6s 69ms/step - loss: 0.6563 - tp: 8836.6279 - fp: 418504.5116 - tn: 524632.4767 - fn: 4693.4767 - accuracy: 0.5606 - precision: 0.0207 - recall: 0.6491 - auc: 0.6468 - val_loss: 0.6344 - val_tp: 4569.0000 - val_fp: 195369.0000 - val_tn: 264637.0000 - val_fn: 2097.0000 - val_accuracy: 0.5769 - val_precision: 0.0229 - val_recall: 0.6854 - val_auc: 0.6873\n",
            "Epoch 24/100\n",
            "85/85 [==============================] - 6s 68ms/step - loss: 0.6505 - tp: 8609.8256 - fp: 409251.9767 - tn: 534002.8256 - fn: 4802.4651 - accuracy: 0.5725 - precision: 0.0207 - recall: 0.6386 - auc: 0.6480 - val_loss: 0.6749 - val_tp: 5529.0000 - val_fp: 255601.0000 - val_tn: 204405.0000 - val_fn: 1137.0000 - val_accuracy: 0.4499 - val_precision: 0.0212 - val_recall: 0.8294 - val_auc: 0.6869\n",
            "Epoch 25/100\n",
            "85/85 [==============================] - 6s 68ms/step - loss: 0.6510 - tp: 8859.3023 - fp: 420573.1860 - tn: 522607.7326 - fn: 4626.8721 - accuracy: 0.5518 - precision: 0.0205 - recall: 0.6611 - auc: 0.6489 - val_loss: 0.6499 - val_tp: 5262.0000 - val_fp: 235828.0000 - val_tn: 224178.0000 - val_fn: 1404.0000 - val_accuracy: 0.4917 - val_precision: 0.0218 - val_recall: 0.7894 - val_auc: 0.6834\n",
            "Epoch 26/100\n",
            "85/85 [==============================] - 6s 69ms/step - loss: 0.6545 - tp: 8813.5116 - fp: 416562.4767 - tn: 526615.7558 - fn: 4675.3488 - accuracy: 0.5574 - precision: 0.0208 - recall: 0.6579 - auc: 0.6471 - val_loss: 0.6387 - val_tp: 4810.0000 - val_fp: 210053.0000 - val_tn: 249953.0000 - val_fn: 1856.0000 - val_accuracy: 0.5459 - val_precision: 0.0224 - val_recall: 0.7216 - val_auc: 0.6896\n",
            "Epoch 27/100\n",
            "85/85 [==============================] - 6s 68ms/step - loss: 0.6522 - tp: 8920.3488 - fp: 420029.8488 - tn: 523123.5000 - fn: 4593.3953 - accuracy: 0.5544 - precision: 0.0209 - recall: 0.6643 - auc: 0.6505 - val_loss: 0.6366 - val_tp: 4928.0000 - val_fp: 218363.0000 - val_tn: 241643.0000 - val_fn: 1738.0000 - val_accuracy: 0.5284 - val_precision: 0.0221 - val_recall: 0.7393 - val_auc: 0.6858\n",
            "Epoch 28/100\n",
            "85/85 [==============================] - 6s 69ms/step - loss: 0.6473 - tp: 8694.6860 - fp: 407047.6628 - tn: 536181.0814 - fn: 4743.6628 - accuracy: 0.5747 - precision: 0.0207 - recall: 0.6403 - auc: 0.6513 - val_loss: 0.6366 - val_tp: 5008.0000 - val_fp: 219310.0000 - val_tn: 240696.0000 - val_fn: 1658.0000 - val_accuracy: 0.5265 - val_precision: 0.0223 - val_recall: 0.7513 - val_auc: 0.6889\n",
            "Epoch 29/100\n",
            "85/85 [==============================] - 6s 69ms/step - loss: 0.6550 - tp: 8847.3256 - fp: 412734.9302 - tn: 530350.9651 - fn: 4733.8721 - accuracy: 0.5638 - precision: 0.0210 - recall: 0.6504 - auc: 0.6490 - val_loss: 0.6182 - val_tp: 4759.0000 - val_fp: 205982.0000 - val_tn: 254024.0000 - val_fn: 1907.0000 - val_accuracy: 0.5545 - val_precision: 0.0226 - val_recall: 0.7139 - val_auc: 0.6883\n",
            "Epoch 30/100\n",
            "85/85 [==============================] - 6s 68ms/step - loss: 0.6487 - tp: 8623.5698 - fp: 406061.9535 - tn: 537164.0233 - fn: 4817.5465 - accuracy: 0.5752 - precision: 0.0207 - recall: 0.6363 - auc: 0.6507 - val_loss: 0.6604 - val_tp: 5279.0000 - val_fp: 237779.0000 - val_tn: 222227.0000 - val_fn: 1387.0000 - val_accuracy: 0.4875 - val_precision: 0.0217 - val_recall: 0.7919 - val_auc: 0.6878\n",
            "Epoch 31/100\n",
            "85/85 [==============================] - 6s 69ms/step - loss: 0.6555 - tp: 8977.3488 - fp: 415637.9070 - tn: 527441.5349 - fn: 4610.3023 - accuracy: 0.5565 - precision: 0.0212 - recall: 0.6684 - auc: 0.6517 - val_loss: 0.6537 - val_tp: 4814.0000 - val_fp: 217440.0000 - val_tn: 242566.0000 - val_fn: 1852.0000 - val_accuracy: 0.5301 - val_precision: 0.0217 - val_recall: 0.7222 - val_auc: 0.6806\n",
            "Epoch 32/100\n",
            "85/85 [==============================] - 6s 69ms/step - loss: 0.6526 - tp: 8623.5349 - fp: 408302.8140 - tn: 534915.9651 - fn: 4824.7791 - accuracy: 0.5705 - precision: 0.0207 - recall: 0.6379 - auc: 0.6466 - val_loss: 0.6531 - val_tp: 5385.0000 - val_fp: 244880.0000 - val_tn: 215126.0000 - val_fn: 1281.0000 - val_accuracy: 0.4725 - val_precision: 0.0215 - val_recall: 0.8078 - val_auc: 0.6891\n",
            "Epoch 33/100\n",
            "85/85 [==============================] - 6s 69ms/step - loss: 0.6529 - tp: 8721.4767 - fp: 409074.8256 - tn: 534096.9651 - fn: 4773.8256 - accuracy: 0.5645 - precision: 0.0209 - recall: 0.6515 - auc: 0.6501 - val_loss: 0.6474 - val_tp: 5188.0000 - val_fp: 229197.0000 - val_tn: 230809.0000 - val_fn: 1478.0000 - val_accuracy: 0.5057 - val_precision: 0.0221 - val_recall: 0.7783 - val_auc: 0.6936\n",
            "Epoch 34/100\n",
            "85/85 [==============================] - 6s 69ms/step - loss: 0.6495 - tp: 8585.3605 - fp: 404975.1163 - tn: 538276.5349 - fn: 4830.0814 - accuracy: 0.5750 - precision: 0.0208 - recall: 0.6383 - auc: 0.6519 - val_loss: 0.6227 - val_tp: 4695.0000 - val_fp: 200121.0000 - val_tn: 259885.0000 - val_fn: 1971.0000 - val_accuracy: 0.5670 - val_precision: 0.0229 - val_recall: 0.7043 - val_auc: 0.6890\n",
            "Epoch 35/100\n",
            "85/85 [==============================] - 6s 69ms/step - loss: 0.6487 - tp: 8568.3605 - fp: 401972.1512 - tn: 541288.3256 - fn: 4838.2558 - accuracy: 0.5766 - precision: 0.0211 - recall: 0.6412 - auc: 0.6527 - val_loss: 0.7075 - val_tp: 5715.0000 - val_fp: 274907.0000 - val_tn: 185099.0000 - val_fn: 951.0000 - val_accuracy: 0.4089 - val_precision: 0.0204 - val_recall: 0.8573 - val_auc: 0.6662\n",
            "Epoch 36/100\n",
            "85/85 [==============================] - 6s 69ms/step - loss: 0.6551 - tp: 8809.9070 - fp: 413774.3605 - tn: 529334.7907 - fn: 4748.0349 - accuracy: 0.5567 - precision: 0.0208 - recall: 0.6555 - auc: 0.6475 - val_loss: 0.6309 - val_tp: 5037.0000 - val_fp: 221599.0000 - val_tn: 238407.0000 - val_fn: 1629.0000 - val_accuracy: 0.5217 - val_precision: 0.0222 - val_recall: 0.7556 - val_auc: 0.6888\n",
            "Epoch 37/100\n",
            "85/85 [==============================] - 6s 69ms/step - loss: 0.6535 - tp: 8568.2442 - fp: 403404.8256 - tn: 539838.0116 - fn: 4856.0116 - accuracy: 0.5706 - precision: 0.0208 - recall: 0.6411 - auc: 0.6487 - val_loss: 0.6659 - val_tp: 5550.0000 - val_fp: 253629.0000 - val_tn: 206377.0000 - val_fn: 1116.0000 - val_accuracy: 0.4541 - val_precision: 0.0214 - val_recall: 0.8326 - val_auc: 0.6858\n",
            "Epoch 38/100\n",
            "85/85 [==============================] - 6s 69ms/step - loss: 0.6482 - tp: 8708.9302 - fp: 407524.7442 - tn: 535726.6512 - fn: 4706.7674 - accuracy: 0.5665 - precision: 0.0207 - recall: 0.6499 - auc: 0.6507 - val_loss: 0.6888 - val_tp: 5590.0000 - val_fp: 258980.0000 - val_tn: 201026.0000 - val_fn: 1076.0000 - val_accuracy: 0.4427 - val_precision: 0.0211 - val_recall: 0.8386 - val_auc: 0.6843\n",
            "Epoch 39/100\n",
            "85/85 [==============================] - 6s 68ms/step - loss: 0.6505 - tp: 8587.4070 - fp: 397953.9302 - tn: 545236.4651 - fn: 4889.2907 - accuracy: 0.5812 - precision: 0.0212 - recall: 0.6383 - auc: 0.6552 - val_loss: 0.6551 - val_tp: 5178.0000 - val_fp: 233607.0000 - val_tn: 226399.0000 - val_fn: 1488.0000 - val_accuracy: 0.4962 - val_precision: 0.0217 - val_recall: 0.7768 - val_auc: 0.6895\n",
            "Epoch 40/100\n",
            "85/85 [==============================] - 6s 69ms/step - loss: 0.6494 - tp: 8470.3837 - fp: 401893.9767 - tn: 541373.0233 - fn: 4929.7093 - accuracy: 0.5743 - precision: 0.0206 - recall: 0.6324 - auc: 0.6488 - val_loss: 0.6836 - val_tp: 5559.0000 - val_fp: 258998.0000 - val_tn: 201008.0000 - val_fn: 1107.0000 - val_accuracy: 0.4426 - val_precision: 0.0210 - val_recall: 0.8339 - val_auc: 0.6901\n",
            "Epoch 41/100\n",
            "85/85 [==============================] - 6s 69ms/step - loss: 0.6524 - tp: 8617.7442 - fp: 403702.5465 - tn: 539517.5930 - fn: 4829.2093 - accuracy: 0.5695 - precision: 0.0209 - recall: 0.6439 - auc: 0.6500 - val_loss: 0.6254 - val_tp: 4640.0000 - val_fp: 194888.0000 - val_tn: 265118.0000 - val_fn: 2026.0000 - val_accuracy: 0.5780 - val_precision: 0.0233 - val_recall: 0.6961 - val_auc: 0.6922\n",
            "Epoch 42/100\n",
            "85/85 [==============================] - 6s 69ms/step - loss: 0.6516 - tp: 8613.2209 - fp: 402288.2907 - tn: 540932.1163 - fn: 4833.4651 - accuracy: 0.5744 - precision: 0.0210 - recall: 0.6416 - auc: 0.6521 - val_loss: 0.6411 - val_tp: 5085.0000 - val_fp: 220841.0000 - val_tn: 239165.0000 - val_fn: 1581.0000 - val_accuracy: 0.5234 - val_precision: 0.0225 - val_recall: 0.7628 - val_auc: 0.6928\n",
            "Epoch 43/100\n",
            "85/85 [==============================] - 6s 69ms/step - loss: 0.6489 - tp: 8504.6047 - fp: 398839.5581 - tn: 544450.1279 - fn: 4872.8023 - accuracy: 0.5773 - precision: 0.0208 - recall: 0.6359 - auc: 0.6514 - val_loss: 0.6372 - val_tp: 5100.0000 - val_fp: 226758.0000 - val_tn: 233248.0000 - val_fn: 1566.0000 - val_accuracy: 0.5107 - val_precision: 0.0220 - val_recall: 0.7651 - val_auc: 0.6805\n",
            "Epoch 44/100\n",
            "85/85 [==============================] - 6s 69ms/step - loss: 0.6503 - tp: 8743.8140 - fp: 406306.1512 - tn: 536881.4535 - fn: 4735.6744 - accuracy: 0.5688 - precision: 0.0211 - recall: 0.6505 - auc: 0.6535 - val_loss: 0.6228 - val_tp: 4637.0000 - val_fp: 197238.0000 - val_tn: 262768.0000 - val_fn: 2029.0000 - val_accuracy: 0.5730 - val_precision: 0.0230 - val_recall: 0.6956 - val_auc: 0.6899\n",
            "Epoch 45/100\n",
            "85/85 [==============================] - 6s 68ms/step - loss: 0.6511 - tp: 8692.6279 - fp: 403438.2558 - tn: 539699.4884 - fn: 4836.7209 - accuracy: 0.5756 - precision: 0.0211 - recall: 0.6417 - auc: 0.6533 - val_loss: 0.5926 - val_tp: 4048.0000 - val_fp: 153253.0000 - val_tn: 306753.0000 - val_fn: 2618.0000 - val_accuracy: 0.6660 - val_precision: 0.0257 - val_recall: 0.6073 - val_auc: 0.6978\n",
            "Epoch 46/100\n",
            "85/85 [==============================] - 6s 69ms/step - loss: 0.6517 - tp: 8597.2791 - fp: 399140.0581 - tn: 544050.4186 - fn: 4879.3372 - accuracy: 0.5806 - precision: 0.0213 - recall: 0.6377 - auc: 0.6535 - val_loss: 0.6796 - val_tp: 5580.0000 - val_fp: 256189.0000 - val_tn: 203817.0000 - val_fn: 1086.0000 - val_accuracy: 0.4487 - val_precision: 0.0213 - val_recall: 0.8371 - val_auc: 0.6813\n",
            "Epoch 47/100\n",
            "85/85 [==============================] - 6s 68ms/step - loss: 0.6525 - tp: 8828.0000 - fp: 409112.1628 - tn: 534014.8140 - fn: 4712.1163 - accuracy: 0.5631 - precision: 0.0211 - recall: 0.6568 - auc: 0.6526 - val_loss: 0.6358 - val_tp: 5147.0000 - val_fp: 226740.0000 - val_tn: 233266.0000 - val_fn: 1519.0000 - val_accuracy: 0.5109 - val_precision: 0.0222 - val_recall: 0.7721 - val_auc: 0.6917\n",
            "Epoch 48/100\n",
            "85/85 [==============================] - 6s 69ms/step - loss: 0.6457 - tp: 8457.6860 - fp: 393501.5465 - tn: 549763.1163 - fn: 4944.7442 - accuracy: 0.5885 - precision: 0.0210 - recall: 0.6270 - auc: 0.6537 - val_loss: 0.6838 - val_tp: 5227.0000 - val_fp: 241537.0000 - val_tn: 218469.0000 - val_fn: 1439.0000 - val_accuracy: 0.4793 - val_precision: 0.0212 - val_recall: 0.7841 - val_auc: 0.6753\n",
            "Epoch 49/100\n",
            "85/85 [==============================] - 6s 69ms/step - loss: 0.6550 - tp: 8622.4651 - fp: 399988.3488 - tn: 543138.8372 - fn: 4917.4419 - accuracy: 0.5769 - precision: 0.0212 - recall: 0.6364 - auc: 0.6518 - val_loss: 0.6389 - val_tp: 5201.0000 - val_fp: 226882.0000 - val_tn: 233124.0000 - val_fn: 1465.0000 - val_accuracy: 0.5107 - val_precision: 0.0224 - val_recall: 0.7802 - val_auc: 0.6908\n",
            "Epoch 50/100\n",
            "85/85 [==============================] - 6s 69ms/step - loss: 0.6494 - tp: 8554.7442 - fp: 396305.7907 - tn: 546937.9884 - fn: 4868.5698 - accuracy: 0.5819 - precision: 0.0211 - recall: 0.6368 - auc: 0.6555 - val_loss: 0.6060 - val_tp: 4457.0000 - val_fp: 192082.0000 - val_tn: 267924.0000 - val_fn: 2209.0000 - val_accuracy: 0.5837 - val_precision: 0.0227 - val_recall: 0.6686 - val_auc: 0.6872\n",
            "Epoch 51/100\n",
            "85/85 [==============================] - 6s 68ms/step - loss: 0.6504 - tp: 8590.1744 - fp: 400825.0233 - tn: 542347.1860 - fn: 4904.7093 - accuracy: 0.5781 - precision: 0.0208 - recall: 0.6303 - auc: 0.6496 - val_loss: 0.6158 - val_tp: 4420.0000 - val_fp: 182963.0000 - val_tn: 277043.0000 - val_fn: 2246.0000 - val_accuracy: 0.6031 - val_precision: 0.0236 - val_recall: 0.6631 - val_auc: 0.6890\n",
            "Epoch 52/100\n",
            "85/85 [==============================] - 6s 70ms/step - loss: 0.6469 - tp: 8549.3372 - fp: 393073.7093 - tn: 550178.1047 - fn: 4865.9419 - accuracy: 0.5889 - precision: 0.0211 - recall: 0.6296 - auc: 0.6553 - val_loss: 0.6382 - val_tp: 5071.0000 - val_fp: 220502.0000 - val_tn: 239504.0000 - val_fn: 1595.0000 - val_accuracy: 0.5241 - val_precision: 0.0225 - val_recall: 0.7607 - val_auc: 0.6880\n",
            "Epoch 53/100\n",
            "85/85 [==============================] - 6s 69ms/step - loss: 0.6511 - tp: 8665.5465 - fp: 401901.4535 - tn: 541278.4767 - fn: 4821.6163 - accuracy: 0.5728 - precision: 0.0211 - recall: 0.6445 - auc: 0.6528 - val_loss: 0.6178 - val_tp: 4785.0000 - val_fp: 196912.0000 - val_tn: 263094.0000 - val_fn: 1881.0000 - val_accuracy: 0.5740 - val_precision: 0.0237 - val_recall: 0.7178 - val_auc: 0.6971\n",
            "Epoch 54/100\n",
            "85/85 [==============================] - 6s 70ms/step - loss: 0.6476 - tp: 8583.9535 - fp: 396949.3488 - tn: 546259.5116 - fn: 4874.2791 - accuracy: 0.5802 - precision: 0.0212 - recall: 0.6394 - auc: 0.6566 - val_loss: 0.6396 - val_tp: 5153.0000 - val_fp: 227089.0000 - val_tn: 232917.0000 - val_fn: 1513.0000 - val_accuracy: 0.5101 - val_precision: 0.0222 - val_recall: 0.7730 - val_auc: 0.6939\n",
            "Epoch 55/100\n",
            "85/85 [==============================] - 6s 70ms/step - loss: 0.6489 - tp: 8621.1860 - fp: 397519.9419 - tn: 545700.0116 - fn: 4825.9535 - accuracy: 0.5807 - precision: 0.0212 - recall: 0.6404 - auc: 0.6555 - val_loss: 0.6603 - val_tp: 5301.0000 - val_fp: 237945.0000 - val_tn: 222061.0000 - val_fn: 1365.0000 - val_accuracy: 0.4872 - val_precision: 0.0218 - val_recall: 0.7952 - val_auc: 0.6851\n",
            "Epoch 56/100\n",
            "85/85 [==============================] - 6s 70ms/step - loss: 0.6503 - tp: 8710.8605 - fp: 402108.2326 - tn: 541094.3721 - fn: 4753.6279 - accuracy: 0.5731 - precision: 0.0212 - recall: 0.6484 - auc: 0.6549 - val_loss: 0.5875 - val_tp: 3959.0000 - val_fp: 159468.0000 - val_tn: 300538.0000 - val_fn: 2707.0000 - val_accuracy: 0.6525 - val_precision: 0.0242 - val_recall: 0.5939 - val_auc: 0.6904\n",
            "Epoch 57/100\n",
            "85/85 [==============================] - 6s 72ms/step - loss: 0.6525 - tp: 8629.1047 - fp: 398067.0000 - tn: 545085.7442 - fn: 4885.2442 - accuracy: 0.5805 - precision: 0.0212 - recall: 0.6347 - auc: 0.6528 - val_loss: 0.6372 - val_tp: 5054.0000 - val_fp: 221776.0000 - val_tn: 238230.0000 - val_fn: 1612.0000 - val_accuracy: 0.5213 - val_precision: 0.0223 - val_recall: 0.7582 - val_auc: 0.6898\n",
            "Epoch 58/100\n",
            "85/85 [==============================] - 6s 69ms/step - loss: 0.6521 - tp: 8739.2209 - fp: 404658.3372 - tn: 538499.8605 - fn: 4769.6744 - accuracy: 0.5682 - precision: 0.0211 - recall: 0.6498 - auc: 0.6538 - val_loss: 0.6282 - val_tp: 4805.0000 - val_fp: 203823.0000 - val_tn: 256183.0000 - val_fn: 1861.0000 - val_accuracy: 0.5593 - val_precision: 0.0230 - val_recall: 0.7208 - val_auc: 0.6875\n",
            "Epoch 59/100\n",
            "85/85 [==============================] - 6s 70ms/step - loss: 0.6463 - tp: 8524.8256 - fp: 393072.6279 - tn: 550186.6512 - fn: 4882.9884 - accuracy: 0.5857 - precision: 0.0213 - recall: 0.6350 - auc: 0.6577 - val_loss: 0.6314 - val_tp: 4871.0000 - val_fp: 208332.0000 - val_tn: 251674.0000 - val_fn: 1795.0000 - val_accuracy: 0.5497 - val_precision: 0.0228 - val_recall: 0.7307 - val_auc: 0.6951\n",
            "Epoch 60/100\n",
            "85/85 [==============================] - 6s 70ms/step - loss: 0.6537 - tp: 8836.6163 - fp: 405696.3488 - tn: 537405.9302 - fn: 4728.1977 - accuracy: 0.5700 - precision: 0.0215 - recall: 0.6548 - auc: 0.6546 - val_loss: 0.6121 - val_tp: 4493.0000 - val_fp: 182268.0000 - val_tn: 277738.0000 - val_fn: 2173.0000 - val_accuracy: 0.6048 - val_precision: 0.0241 - val_recall: 0.6740 - val_auc: 0.6942\n",
            "Epoch 61/100\n",
            "85/85 [==============================] - 6s 70ms/step - loss: 0.6493 - tp: 8657.3721 - fp: 398086.4419 - tn: 545069.4535 - fn: 4853.8256 - accuracy: 0.5822 - precision: 0.0212 - recall: 0.6351 - auc: 0.6559 - val_loss: 0.6757 - val_tp: 5475.0000 - val_fp: 250945.0000 - val_tn: 209061.0000 - val_fn: 1191.0000 - val_accuracy: 0.4597 - val_precision: 0.0214 - val_recall: 0.8213 - val_auc: 0.6862\n",
            "Epoch 62/100\n",
            "85/85 [==============================] - 6s 69ms/step - loss: 0.6502 - tp: 8683.1628 - fp: 398203.5465 - tn: 544971.8023 - fn: 4808.5814 - accuracy: 0.5794 - precision: 0.0213 - recall: 0.6422 - auc: 0.6552 - val_loss: 0.6561 - val_tp: 5292.0000 - val_fp: 235112.0000 - val_tn: 224894.0000 - val_fn: 1374.0000 - val_accuracy: 0.4933 - val_precision: 0.0220 - val_recall: 0.7939 - val_auc: 0.6896\n",
            "Restoring model weights from the end of the best epoch.\n",
            "Epoch 00062: early stopping\n"
          ],
          "name": "stdout"
        }
      ]
    },
    {
      "cell_type": "code",
      "metadata": {
        "id": "Kdvkv6fqNCwz"
      },
      "source": [
        "train_predictions_weighted = classweight_model.predict(train_features, batch_size=BATCH_SIZE)\r\n",
        "test_predictions_weighted = classweight_model.predict(test_features, batch_size=BATCH_SIZE)"
      ],
      "execution_count": null,
      "outputs": []
    },
    {
      "cell_type": "code",
      "metadata": {
        "colab": {
          "base_uri": "https://localhost:8080/",
          "height": 520
        },
        "id": "0z2UxVtzNX42",
        "outputId": "9679c681-77f1-46cb-b81e-a12f1e07ba8d"
      },
      "source": [
        "weighted_results = classweight_model.evaluate(test_features, test_labels,\r\n",
        "                                           batch_size=BATCH_SIZE, verbose=0)\r\n",
        "for name, value in zip(classweight_model.metrics_names, weighted_results):\r\n",
        "  print(name, ': ', value)\r\n",
        "print()\r\n",
        "\r\n",
        "plot_cm(test_labels, test_predictions_weighted)"
      ],
      "execution_count": null,
      "outputs": [
        {
          "output_type": "stream",
          "text": [
            "loss :  0.6389028429985046\n",
            "tp :  6442.0\n",
            "fp :  275818.0\n",
            "tn :  299068.0\n",
            "fn :  2012.0\n",
            "accuracy :  0.5237254500389099\n",
            "precision :  0.022822929546236992\n",
            "recall :  0.7620061635971069\n",
            "auc :  0.6898534297943115\n",
            "\n"
          ],
          "name": "stdout"
        },
        {
          "output_type": "display_data",
          "data": {
            "image/png": "[encoded data removed]",
            "text/plain": [
              "<Figure size 360x360 with 2 Axes>"
            ]
          },
          "metadata": {
            "tags": [],
            "needs_background": "light"
          }
        }
      ]
    },
    {
      "cell_type": "markdown",
      "metadata": {
        "id": "CMc7Pktzwcur"
      },
      "source": [
        "**Hence This Result is better than earlier but it is too not aceptable since we have a a lot of false postive values**\r\n",
        "\r\n",
        "### Conclusion\r\n",
        "*   Imbalanced Dataset accuracy in not acceptable measures because it gives too much optimistic result \r\n",
        "*    Class Weights Method is better but not best for this data  \r\n",
        "*    We Should try to clear the bias towards majority by oversampling from the Minority Class   \r\n",
        "\r\n",
        "\r\n",
        "\r\n"
      ]
    },
    {
      "cell_type": "code",
      "metadata": {
        "id": "Ms6grazGzPui"
      },
      "source": [
        ""
      ],
      "execution_count": null,
      "outputs": []
    }
  ]
}